{
 "cells": [
  {
   "cell_type": "markdown",
   "id": "16644067-fe1e-42e8-aa79-81210383d13a",
   "metadata": {
    "jp-MarkdownHeadingCollapsed": true,
    "tags": []
   },
   "source": [
    "## Структура работы"
   ]
  },
  {
   "cell_type": "markdown",
   "id": "21e54b47-5ff5-48f4-ba54-48869cb433cd",
   "metadata": {},
   "source": [
    "1. Подготовительная работа, прочтение датасета, ознакомлением с данными, оценка полноты и чистоты данных.\n",
    "2. Разведочный анализ данных:\n",
    "  - базовая очистка (дубликаты, пустые значения, типизация данных, ненужные атрибуты).\n",
    "  - оценка распределения ключевых атрибутов, их отношения\n",
    "3. Проверка гипотез, ответы на вопросы для продуктовой команды \n",
    "  - проверка следующих:\n",
    "    * Органический трафик не отличается от платного с точки зрения CR (Conversion Rate) в целевые события.\n",
    "    * Трафик с мобильных устройств не отличается от трафика с десктопных устройств с точки зрения CR (Conversion Rate) в целевые события.\n",
    "    * Трафик из городов присутствия (Москва и область, Санкт-Петербург) не отличается от трафика из иных регионов с точки зрения CR (Conversion Rate) в целевые события.\n",
    "  - ответы на вопросы продуктовой команды:\n",
    "    * Из каких источников (кампаний, устройств, локаций) к нам идёт самый целевой трафик (и с точки зрения объёма трафика, и с точки зрения CR)?\n",
    "    * Какие авто пользуются наибольшим спросом? У каких авто самый лучший показатель CR (Conversion Rate) в целевые события?\n",
    "    * Стоит ли нам увеличивать своё присутствие в соцсетях и давать там больше рекламы?"
   ]
  },
  {
   "cell_type": "markdown",
   "id": "4761b0bf-9217-4fc6-85c4-4016aef0b195",
   "metadata": {
    "jp-MarkdownHeadingCollapsed": true,
    "tags": []
   },
   "source": [
    "## Цель работы"
   ]
  },
  {
   "cell_type": "markdown",
   "id": "60acb68e-44eb-4e5a-b6e4-151703f0da92",
   "metadata": {},
   "source": [
    "изучить датасет, провести базовую обработку данных и разведочный анализ данных, выполнить проверку гипотез и ответить на вопросы продуктовой команды"
   ]
  },
  {
   "cell_type": "markdown",
   "id": "3a8261cd-44e1-46f8-9a2d-168f11f5ca9e",
   "metadata": {
    "jp-MarkdownHeadingCollapsed": true,
    "tags": []
   },
   "source": [
    "## Импортируем библиотеки"
   ]
  },
  {
   "cell_type": "code",
   "execution_count": 4,
   "id": "60558eca-140a-4efe-bc83-92fbc00e0923",
   "metadata": {
    "tags": []
   },
   "outputs": [],
   "source": [
    "import pandas as pd\n",
    "import matplotlib.pyplot as plt\n",
    "import scipy.stats as stats \n",
    "import math \n",
    "import numpy as np\n",
    "import seaborn as sns"
   ]
  },
  {
   "cell_type": "markdown",
   "id": "59105499-c6b3-4ee0-8463-47ab69893440",
   "metadata": {
    "jp-MarkdownHeadingCollapsed": true,
    "tags": []
   },
   "source": [
    "## Загружаем данные, проверяем на дубликаты "
   ]
  },
  {
   "cell_type": "code",
   "execution_count": 2,
   "id": "7e8e0ad4-59ed-43f3-bc2b-ecb701f7eb92",
   "metadata": {
    "tags": []
   },
   "outputs": [
    {
     "name": "stderr",
     "output_type": "stream",
     "text": [
      "C:\\Users\\oksan\\AppData\\Local\\Temp\\ipykernel_10756\\2107370411.py:1: DtypeWarning: Columns (1) have mixed types. Specify dtype option on import or set low_memory=False.\n",
      "  df_ses = pd.read_csv('ga_sessions.csv')\n"
     ]
    },
    {
     "data": {
      "text/html": [
       "<div>\n",
       "<style scoped>\n",
       "    .dataframe tbody tr th:only-of-type {\n",
       "        vertical-align: middle;\n",
       "    }\n",
       "\n",
       "    .dataframe tbody tr th {\n",
       "        vertical-align: top;\n",
       "    }\n",
       "\n",
       "    .dataframe thead th {\n",
       "        text-align: right;\n",
       "    }\n",
       "</style>\n",
       "<table border=\"1\" class=\"dataframe\">\n",
       "  <thead>\n",
       "    <tr style=\"text-align: right;\">\n",
       "      <th></th>\n",
       "      <th>session_id</th>\n",
       "      <th>client_id</th>\n",
       "      <th>visit_date</th>\n",
       "      <th>visit_time</th>\n",
       "      <th>visit_number</th>\n",
       "      <th>utm_source</th>\n",
       "      <th>utm_medium</th>\n",
       "      <th>utm_campaign</th>\n",
       "      <th>utm_adcontent</th>\n",
       "      <th>utm_keyword</th>\n",
       "      <th>device_category</th>\n",
       "      <th>device_os</th>\n",
       "      <th>device_brand</th>\n",
       "      <th>device_model</th>\n",
       "      <th>device_screen_resolution</th>\n",
       "      <th>device_browser</th>\n",
       "      <th>geo_country</th>\n",
       "      <th>geo_city</th>\n",
       "    </tr>\n",
       "  </thead>\n",
       "  <tbody>\n",
       "    <tr>\n",
       "      <th>0</th>\n",
       "      <td>9055434745589932991.1637753792.1637753792</td>\n",
       "      <td>2108382700.163776</td>\n",
       "      <td>2021-11-24</td>\n",
       "      <td>14:36:32</td>\n",
       "      <td>1</td>\n",
       "      <td>ZpYIoDJMcFzVoPFsHGJL</td>\n",
       "      <td>banner</td>\n",
       "      <td>LEoPHuyFvzoNfnzGgfcd</td>\n",
       "      <td>vCIpmpaGBnIQhyYNkXqp</td>\n",
       "      <td>puhZPIYqKXeFPaUviSjo</td>\n",
       "      <td>mobile</td>\n",
       "      <td>Android</td>\n",
       "      <td>Huawei</td>\n",
       "      <td>NaN</td>\n",
       "      <td>360x720</td>\n",
       "      <td>Chrome</td>\n",
       "      <td>Russia</td>\n",
       "      <td>Zlatoust</td>\n",
       "    </tr>\n",
       "    <tr>\n",
       "      <th>1</th>\n",
       "      <td>905544597018549464.1636867290.1636867290</td>\n",
       "      <td>210838531.163687</td>\n",
       "      <td>2021-11-14</td>\n",
       "      <td>08:21:30</td>\n",
       "      <td>1</td>\n",
       "      <td>MvfHsxITijuriZxsqZqt</td>\n",
       "      <td>cpm</td>\n",
       "      <td>FTjNLDyTrXaWYgZymFkV</td>\n",
       "      <td>xhoenQgDQsgfEPYNPwKO</td>\n",
       "      <td>IGUCNvHlhfHpROGclCit</td>\n",
       "      <td>mobile</td>\n",
       "      <td>Android</td>\n",
       "      <td>Samsung</td>\n",
       "      <td>NaN</td>\n",
       "      <td>385x854</td>\n",
       "      <td>Samsung Internet</td>\n",
       "      <td>Russia</td>\n",
       "      <td>Moscow</td>\n",
       "    </tr>\n",
       "    <tr>\n",
       "      <th>2</th>\n",
       "      <td>9055446045651783499.1640648526.1640648526</td>\n",
       "      <td>2108385331.164065</td>\n",
       "      <td>2021-12-28</td>\n",
       "      <td>02:42:06</td>\n",
       "      <td>1</td>\n",
       "      <td>ZpYIoDJMcFzVoPFsHGJL</td>\n",
       "      <td>banner</td>\n",
       "      <td>LEoPHuyFvzoNfnzGgfcd</td>\n",
       "      <td>vCIpmpaGBnIQhyYNkXqp</td>\n",
       "      <td>puhZPIYqKXeFPaUviSjo</td>\n",
       "      <td>mobile</td>\n",
       "      <td>Android</td>\n",
       "      <td>Huawei</td>\n",
       "      <td>NaN</td>\n",
       "      <td>360x720</td>\n",
       "      <td>Chrome</td>\n",
       "      <td>Russia</td>\n",
       "      <td>Krasnoyarsk</td>\n",
       "    </tr>\n",
       "    <tr>\n",
       "      <th>3</th>\n",
       "      <td>9055447046360770272.1622255328.1622255328</td>\n",
       "      <td>2108385564.162225</td>\n",
       "      <td>2021-05-29</td>\n",
       "      <td>05:00:00</td>\n",
       "      <td>1</td>\n",
       "      <td>kjsLglQLzykiRbcDiGcD</td>\n",
       "      <td>cpc</td>\n",
       "      <td>NaN</td>\n",
       "      <td>NOBKLgtuvqYWkXQHeYWM</td>\n",
       "      <td>NaN</td>\n",
       "      <td>mobile</td>\n",
       "      <td>NaN</td>\n",
       "      <td>Xiaomi</td>\n",
       "      <td>NaN</td>\n",
       "      <td>393x786</td>\n",
       "      <td>Chrome</td>\n",
       "      <td>Russia</td>\n",
       "      <td>Moscow</td>\n",
       "    </tr>\n",
       "    <tr>\n",
       "      <th>4</th>\n",
       "      <td>9055447046360770272.1622255345.1622255345</td>\n",
       "      <td>2108385564.162225</td>\n",
       "      <td>2021-05-29</td>\n",
       "      <td>05:00:00</td>\n",
       "      <td>2</td>\n",
       "      <td>kjsLglQLzykiRbcDiGcD</td>\n",
       "      <td>cpc</td>\n",
       "      <td>NaN</td>\n",
       "      <td>NaN</td>\n",
       "      <td>NaN</td>\n",
       "      <td>mobile</td>\n",
       "      <td>NaN</td>\n",
       "      <td>Xiaomi</td>\n",
       "      <td>NaN</td>\n",
       "      <td>393x786</td>\n",
       "      <td>Chrome</td>\n",
       "      <td>Russia</td>\n",
       "      <td>Moscow</td>\n",
       "    </tr>\n",
       "    <tr>\n",
       "      <th>5</th>\n",
       "      <td>9055447192389856083.1622453074.1622453074</td>\n",
       "      <td>2108385598.162245</td>\n",
       "      <td>2021-05-31</td>\n",
       "      <td>12:00:00</td>\n",
       "      <td>1</td>\n",
       "      <td>kjsLglQLzykiRbcDiGcD</td>\n",
       "      <td>organic</td>\n",
       "      <td>LTuZkdKfxRGVceoWkVyg</td>\n",
       "      <td>JNHcPlZPxEMWDnRiyoBf</td>\n",
       "      <td>NaN</td>\n",
       "      <td>mobile</td>\n",
       "      <td>NaN</td>\n",
       "      <td>Apple</td>\n",
       "      <td>NaN</td>\n",
       "      <td>375x812</td>\n",
       "      <td>Safari</td>\n",
       "      <td>Russia</td>\n",
       "      <td>Saint Petersburg</td>\n",
       "    </tr>\n",
       "    <tr>\n",
       "      <th>6</th>\n",
       "      <td>9055455318486370642.1640843788.1640843788</td>\n",
       "      <td>2108387490.164084</td>\n",
       "      <td>2021-12-30</td>\n",
       "      <td>08:56:28</td>\n",
       "      <td>1</td>\n",
       "      <td>TxKUcPpthBDPieTGmVhx</td>\n",
       "      <td>cpc</td>\n",
       "      <td>FTjNLDyTrXaWYgZymFkV</td>\n",
       "      <td>LcGIUNPUAmXtQJaDfFBR</td>\n",
       "      <td>PwscUHjoUJDrtfWESIHj</td>\n",
       "      <td>tablet</td>\n",
       "      <td>Android</td>\n",
       "      <td>Lenovo</td>\n",
       "      <td>NaN</td>\n",
       "      <td>602x1029</td>\n",
       "      <td>YaBrowser</td>\n",
       "      <td>Russia</td>\n",
       "      <td>Saint Petersburg</td>\n",
       "    </tr>\n",
       "    <tr>\n",
       "      <th>7</th>\n",
       "      <td>9055461992850812764.1626107740.1626107740</td>\n",
       "      <td>2108389044.162611</td>\n",
       "      <td>2021-07-12</td>\n",
       "      <td>19:00:00</td>\n",
       "      <td>1</td>\n",
       "      <td>ZpYIoDJMcFzVoPFsHGJL</td>\n",
       "      <td>banner</td>\n",
       "      <td>LEoPHuyFvzoNfnzGgfcd</td>\n",
       "      <td>JNHcPlZPxEMWDnRiyoBf</td>\n",
       "      <td>NaN</td>\n",
       "      <td>mobile</td>\n",
       "      <td>NaN</td>\n",
       "      <td>Samsung</td>\n",
       "      <td>NaN</td>\n",
       "      <td>360x640</td>\n",
       "      <td>Chrome</td>\n",
       "      <td>Russia</td>\n",
       "      <td>Saint Petersburg</td>\n",
       "    </tr>\n",
       "    <tr>\n",
       "      <th>8</th>\n",
       "      <td>9055462349345527315.1638536723.1638536723</td>\n",
       "      <td>2108389127.163854</td>\n",
       "      <td>2021-12-03</td>\n",
       "      <td>16:05:23</td>\n",
       "      <td>1</td>\n",
       "      <td>ZpYIoDJMcFzVoPFsHGJL</td>\n",
       "      <td>banner</td>\n",
       "      <td>LEoPHuyFvzoNfnzGgfcd</td>\n",
       "      <td>vCIpmpaGBnIQhyYNkXqp</td>\n",
       "      <td>puhZPIYqKXeFPaUviSjo</td>\n",
       "      <td>mobile</td>\n",
       "      <td>iOS</td>\n",
       "      <td>Apple</td>\n",
       "      <td>NaN</td>\n",
       "      <td>390x844</td>\n",
       "      <td>Safari</td>\n",
       "      <td>Russia</td>\n",
       "      <td>Moscow</td>\n",
       "    </tr>\n",
       "    <tr>\n",
       "      <th>9</th>\n",
       "      <td>9055466554104774132.1624800757.1624800757</td>\n",
       "      <td>2108390106.16248</td>\n",
       "      <td>2021-06-27</td>\n",
       "      <td>16:00:00</td>\n",
       "      <td>1</td>\n",
       "      <td>ZpYIoDJMcFzVoPFsHGJL</td>\n",
       "      <td>banner</td>\n",
       "      <td>LEoPHuyFvzoNfnzGgfcd</td>\n",
       "      <td>JNHcPlZPxEMWDnRiyoBf</td>\n",
       "      <td>NaN</td>\n",
       "      <td>mobile</td>\n",
       "      <td>NaN</td>\n",
       "      <td>Samsung</td>\n",
       "      <td>NaN</td>\n",
       "      <td>412x915</td>\n",
       "      <td>Chrome</td>\n",
       "      <td>Russia</td>\n",
       "      <td>Moscow</td>\n",
       "    </tr>\n",
       "  </tbody>\n",
       "</table>\n",
       "</div>"
      ],
      "text/plain": [
       "                                  session_id          client_id  visit_date  \\\n",
       "0  9055434745589932991.1637753792.1637753792  2108382700.163776  2021-11-24   \n",
       "1   905544597018549464.1636867290.1636867290   210838531.163687  2021-11-14   \n",
       "2  9055446045651783499.1640648526.1640648526  2108385331.164065  2021-12-28   \n",
       "3  9055447046360770272.1622255328.1622255328  2108385564.162225  2021-05-29   \n",
       "4  9055447046360770272.1622255345.1622255345  2108385564.162225  2021-05-29   \n",
       "5  9055447192389856083.1622453074.1622453074  2108385598.162245  2021-05-31   \n",
       "6  9055455318486370642.1640843788.1640843788  2108387490.164084  2021-12-30   \n",
       "7  9055461992850812764.1626107740.1626107740  2108389044.162611  2021-07-12   \n",
       "8  9055462349345527315.1638536723.1638536723  2108389127.163854  2021-12-03   \n",
       "9  9055466554104774132.1624800757.1624800757   2108390106.16248  2021-06-27   \n",
       "\n",
       "  visit_time  visit_number            utm_source utm_medium  \\\n",
       "0   14:36:32             1  ZpYIoDJMcFzVoPFsHGJL     banner   \n",
       "1   08:21:30             1  MvfHsxITijuriZxsqZqt        cpm   \n",
       "2   02:42:06             1  ZpYIoDJMcFzVoPFsHGJL     banner   \n",
       "3   05:00:00             1  kjsLglQLzykiRbcDiGcD        cpc   \n",
       "4   05:00:00             2  kjsLglQLzykiRbcDiGcD        cpc   \n",
       "5   12:00:00             1  kjsLglQLzykiRbcDiGcD    organic   \n",
       "6   08:56:28             1  TxKUcPpthBDPieTGmVhx        cpc   \n",
       "7   19:00:00             1  ZpYIoDJMcFzVoPFsHGJL     banner   \n",
       "8   16:05:23             1  ZpYIoDJMcFzVoPFsHGJL     banner   \n",
       "9   16:00:00             1  ZpYIoDJMcFzVoPFsHGJL     banner   \n",
       "\n",
       "           utm_campaign         utm_adcontent           utm_keyword  \\\n",
       "0  LEoPHuyFvzoNfnzGgfcd  vCIpmpaGBnIQhyYNkXqp  puhZPIYqKXeFPaUviSjo   \n",
       "1  FTjNLDyTrXaWYgZymFkV  xhoenQgDQsgfEPYNPwKO  IGUCNvHlhfHpROGclCit   \n",
       "2  LEoPHuyFvzoNfnzGgfcd  vCIpmpaGBnIQhyYNkXqp  puhZPIYqKXeFPaUviSjo   \n",
       "3                   NaN  NOBKLgtuvqYWkXQHeYWM                   NaN   \n",
       "4                   NaN                   NaN                   NaN   \n",
       "5  LTuZkdKfxRGVceoWkVyg  JNHcPlZPxEMWDnRiyoBf                   NaN   \n",
       "6  FTjNLDyTrXaWYgZymFkV  LcGIUNPUAmXtQJaDfFBR  PwscUHjoUJDrtfWESIHj   \n",
       "7  LEoPHuyFvzoNfnzGgfcd  JNHcPlZPxEMWDnRiyoBf                   NaN   \n",
       "8  LEoPHuyFvzoNfnzGgfcd  vCIpmpaGBnIQhyYNkXqp  puhZPIYqKXeFPaUviSjo   \n",
       "9  LEoPHuyFvzoNfnzGgfcd  JNHcPlZPxEMWDnRiyoBf                   NaN   \n",
       "\n",
       "  device_category device_os device_brand device_model  \\\n",
       "0          mobile   Android       Huawei          NaN   \n",
       "1          mobile   Android      Samsung          NaN   \n",
       "2          mobile   Android       Huawei          NaN   \n",
       "3          mobile       NaN       Xiaomi          NaN   \n",
       "4          mobile       NaN       Xiaomi          NaN   \n",
       "5          mobile       NaN        Apple          NaN   \n",
       "6          tablet   Android       Lenovo          NaN   \n",
       "7          mobile       NaN      Samsung          NaN   \n",
       "8          mobile       iOS        Apple          NaN   \n",
       "9          mobile       NaN      Samsung          NaN   \n",
       "\n",
       "  device_screen_resolution    device_browser geo_country          geo_city  \n",
       "0                  360x720            Chrome      Russia          Zlatoust  \n",
       "1                  385x854  Samsung Internet      Russia            Moscow  \n",
       "2                  360x720            Chrome      Russia       Krasnoyarsk  \n",
       "3                  393x786            Chrome      Russia            Moscow  \n",
       "4                  393x786            Chrome      Russia            Moscow  \n",
       "5                  375x812            Safari      Russia  Saint Petersburg  \n",
       "6                 602x1029         YaBrowser      Russia  Saint Petersburg  \n",
       "7                  360x640            Chrome      Russia  Saint Petersburg  \n",
       "8                  390x844            Safari      Russia            Moscow  \n",
       "9                  412x915            Chrome      Russia            Moscow  "
      ]
     },
     "execution_count": 2,
     "metadata": {},
     "output_type": "execute_result"
    }
   ],
   "source": [
    "df_ses = pd.read_csv('ga_sessions.csv')\n",
    "df_ses.head(10)"
   ]
  },
  {
   "cell_type": "code",
   "execution_count": 3,
   "id": "7aa9c7c0-803f-40bf-bbd8-be5ee381f98c",
   "metadata": {
    "tags": []
   },
   "outputs": [
    {
     "data": {
      "text/plain": [
       "(1860042, 18)"
      ]
     },
     "execution_count": 3,
     "metadata": {},
     "output_type": "execute_result"
    }
   ],
   "source": [
    "df_ses.shape"
   ]
  },
  {
   "cell_type": "code",
   "execution_count": 4,
   "id": "2178381b-eff8-417b-b372-bf782e3b1609",
   "metadata": {
    "tags": []
   },
   "outputs": [
    {
     "data": {
      "text/html": [
       "<div>\n",
       "<style scoped>\n",
       "    .dataframe tbody tr th:only-of-type {\n",
       "        vertical-align: middle;\n",
       "    }\n",
       "\n",
       "    .dataframe tbody tr th {\n",
       "        vertical-align: top;\n",
       "    }\n",
       "\n",
       "    .dataframe thead th {\n",
       "        text-align: right;\n",
       "    }\n",
       "</style>\n",
       "<table border=\"1\" class=\"dataframe\">\n",
       "  <thead>\n",
       "    <tr style=\"text-align: right;\">\n",
       "      <th></th>\n",
       "      <th>session_id</th>\n",
       "      <th>client_id</th>\n",
       "      <th>visit_date</th>\n",
       "      <th>visit_time</th>\n",
       "      <th>visit_number</th>\n",
       "      <th>utm_source</th>\n",
       "      <th>utm_medium</th>\n",
       "      <th>utm_campaign</th>\n",
       "      <th>utm_adcontent</th>\n",
       "      <th>utm_keyword</th>\n",
       "      <th>device_category</th>\n",
       "      <th>device_os</th>\n",
       "      <th>device_brand</th>\n",
       "      <th>device_model</th>\n",
       "      <th>device_screen_resolution</th>\n",
       "      <th>device_browser</th>\n",
       "      <th>geo_country</th>\n",
       "      <th>geo_city</th>\n",
       "    </tr>\n",
       "  </thead>\n",
       "  <tbody>\n",
       "  </tbody>\n",
       "</table>\n",
       "</div>"
      ],
      "text/plain": [
       "Empty DataFrame\n",
       "Columns: [session_id, client_id, visit_date, visit_time, visit_number, utm_source, utm_medium, utm_campaign, utm_adcontent, utm_keyword, device_category, device_os, device_brand, device_model, device_screen_resolution, device_browser, geo_country, geo_city]\n",
       "Index: []"
      ]
     },
     "execution_count": 4,
     "metadata": {},
     "output_type": "execute_result"
    }
   ],
   "source": [
    "df_ses[df_ses.duplicated]"
   ]
  },
  {
   "cell_type": "code",
   "execution_count": 5,
   "id": "db801a47-9b39-4980-b01e-003309b6b81c",
   "metadata": {
    "tags": []
   },
   "outputs": [
    {
     "data": {
      "text/html": [
       "<div>\n",
       "<style scoped>\n",
       "    .dataframe tbody tr th:only-of-type {\n",
       "        vertical-align: middle;\n",
       "    }\n",
       "\n",
       "    .dataframe tbody tr th {\n",
       "        vertical-align: top;\n",
       "    }\n",
       "\n",
       "    .dataframe thead th {\n",
       "        text-align: right;\n",
       "    }\n",
       "</style>\n",
       "<table border=\"1\" class=\"dataframe\">\n",
       "  <thead>\n",
       "    <tr style=\"text-align: right;\">\n",
       "      <th></th>\n",
       "      <th>session_id</th>\n",
       "      <th>hit_date</th>\n",
       "      <th>hit_time</th>\n",
       "      <th>hit_number</th>\n",
       "      <th>hit_type</th>\n",
       "      <th>hit_referer</th>\n",
       "      <th>hit_page_path</th>\n",
       "      <th>event_category</th>\n",
       "      <th>event_action</th>\n",
       "      <th>event_label</th>\n",
       "      <th>event_value</th>\n",
       "    </tr>\n",
       "  </thead>\n",
       "  <tbody>\n",
       "    <tr>\n",
       "      <th>0</th>\n",
       "      <td>5639623078712724064.1640254056.1640254056</td>\n",
       "      <td>2021-12-23</td>\n",
       "      <td>597864.0</td>\n",
       "      <td>30</td>\n",
       "      <td>event</td>\n",
       "      <td>NaN</td>\n",
       "      <td>sberauto.com/cars?utm_source_initial=google&amp;ut...</td>\n",
       "      <td>quiz</td>\n",
       "      <td>quiz_show</td>\n",
       "      <td>NaN</td>\n",
       "      <td>NaN</td>\n",
       "    </tr>\n",
       "    <tr>\n",
       "      <th>1</th>\n",
       "      <td>7750352294969115059.1640271109.1640271109</td>\n",
       "      <td>2021-12-23</td>\n",
       "      <td>597331.0</td>\n",
       "      <td>41</td>\n",
       "      <td>event</td>\n",
       "      <td>NaN</td>\n",
       "      <td>sberauto.com/cars/fiat?city=1&amp;city=18&amp;rental_c...</td>\n",
       "      <td>quiz</td>\n",
       "      <td>quiz_show</td>\n",
       "      <td>NaN</td>\n",
       "      <td>NaN</td>\n",
       "    </tr>\n",
       "    <tr>\n",
       "      <th>2</th>\n",
       "      <td>885342191847998240.1640235807.1640235807</td>\n",
       "      <td>2021-12-23</td>\n",
       "      <td>796252.0</td>\n",
       "      <td>49</td>\n",
       "      <td>event</td>\n",
       "      <td>NaN</td>\n",
       "      <td>sberauto.com/cars/all/volkswagen/polo/e994838f...</td>\n",
       "      <td>quiz</td>\n",
       "      <td>quiz_show</td>\n",
       "      <td>NaN</td>\n",
       "      <td>NaN</td>\n",
       "    </tr>\n",
       "    <tr>\n",
       "      <th>3</th>\n",
       "      <td>142526202120934167.1640211014.1640211014</td>\n",
       "      <td>2021-12-23</td>\n",
       "      <td>934292.0</td>\n",
       "      <td>46</td>\n",
       "      <td>event</td>\n",
       "      <td>NaN</td>\n",
       "      <td>sberauto.com/cars?utm_source_initial=yandex&amp;ut...</td>\n",
       "      <td>quiz</td>\n",
       "      <td>quiz_show</td>\n",
       "      <td>NaN</td>\n",
       "      <td>NaN</td>\n",
       "    </tr>\n",
       "    <tr>\n",
       "      <th>4</th>\n",
       "      <td>3450086108837475701.1640265078.1640265078</td>\n",
       "      <td>2021-12-23</td>\n",
       "      <td>768741.0</td>\n",
       "      <td>79</td>\n",
       "      <td>event</td>\n",
       "      <td>NaN</td>\n",
       "      <td>sberauto.com/cars/all/mercedes-benz/cla-klasse...</td>\n",
       "      <td>quiz</td>\n",
       "      <td>quiz_show</td>\n",
       "      <td>NaN</td>\n",
       "      <td>NaN</td>\n",
       "    </tr>\n",
       "    <tr>\n",
       "      <th>5</th>\n",
       "      <td>6466333295973247896.1640246168.1640246168</td>\n",
       "      <td>2021-12-23</td>\n",
       "      <td>704194.0</td>\n",
       "      <td>41</td>\n",
       "      <td>event</td>\n",
       "      <td>NaN</td>\n",
       "      <td>sberauto.com/cars?utm_source_initial=youtube&amp;u...</td>\n",
       "      <td>quiz</td>\n",
       "      <td>quiz_show</td>\n",
       "      <td>NaN</td>\n",
       "      <td>NaN</td>\n",
       "    </tr>\n",
       "    <tr>\n",
       "      <th>6</th>\n",
       "      <td>281215510786615563.1640245516.1640245516</td>\n",
       "      <td>2021-12-23</td>\n",
       "      <td>911854.0</td>\n",
       "      <td>102</td>\n",
       "      <td>event</td>\n",
       "      <td>NaN</td>\n",
       "      <td>sberauto.com/cars/toyota?isnew=false&amp;rental_ca...</td>\n",
       "      <td>quiz</td>\n",
       "      <td>quiz_show</td>\n",
       "      <td>NaN</td>\n",
       "      <td>NaN</td>\n",
       "    </tr>\n",
       "    <tr>\n",
       "      <th>7</th>\n",
       "      <td>4024492994895054107.1640269084.1640269084</td>\n",
       "      <td>2021-12-23</td>\n",
       "      <td>1071804.0</td>\n",
       "      <td>85</td>\n",
       "      <td>event</td>\n",
       "      <td>NaN</td>\n",
       "      <td>sberauto.com/cars/all/mercedes-benz/glc/f8f330...</td>\n",
       "      <td>quiz</td>\n",
       "      <td>quiz_show</td>\n",
       "      <td>NaN</td>\n",
       "      <td>NaN</td>\n",
       "    </tr>\n",
       "    <tr>\n",
       "      <th>8</th>\n",
       "      <td>555009234841130092.1640256620.1640256620</td>\n",
       "      <td>2021-12-23</td>\n",
       "      <td>1013899.0</td>\n",
       "      <td>101</td>\n",
       "      <td>event</td>\n",
       "      <td>VloVXNWduHeTjUoDkjkO</td>\n",
       "      <td>sberauto.com/cars/all/kia/sorento/c38179cb?utm...</td>\n",
       "      <td>quiz</td>\n",
       "      <td>quiz_show</td>\n",
       "      <td>NaN</td>\n",
       "      <td>NaN</td>\n",
       "    </tr>\n",
       "    <tr>\n",
       "      <th>9</th>\n",
       "      <td>2692901778487480807.1640206845.1640206845</td>\n",
       "      <td>2021-12-23</td>\n",
       "      <td>0.0</td>\n",
       "      <td>1</td>\n",
       "      <td>event</td>\n",
       "      <td>NaN</td>\n",
       "      <td>sberauto.com/cars/all/nissan/x-trail/0744675f?...</td>\n",
       "      <td>card_web</td>\n",
       "      <td>view_card</td>\n",
       "      <td>NaN</td>\n",
       "      <td>NaN</td>\n",
       "    </tr>\n",
       "  </tbody>\n",
       "</table>\n",
       "</div>"
      ],
      "text/plain": [
       "                                  session_id    hit_date   hit_time  \\\n",
       "0  5639623078712724064.1640254056.1640254056  2021-12-23   597864.0   \n",
       "1  7750352294969115059.1640271109.1640271109  2021-12-23   597331.0   \n",
       "2   885342191847998240.1640235807.1640235807  2021-12-23   796252.0   \n",
       "3   142526202120934167.1640211014.1640211014  2021-12-23   934292.0   \n",
       "4  3450086108837475701.1640265078.1640265078  2021-12-23   768741.0   \n",
       "5  6466333295973247896.1640246168.1640246168  2021-12-23   704194.0   \n",
       "6   281215510786615563.1640245516.1640245516  2021-12-23   911854.0   \n",
       "7  4024492994895054107.1640269084.1640269084  2021-12-23  1071804.0   \n",
       "8   555009234841130092.1640256620.1640256620  2021-12-23  1013899.0   \n",
       "9  2692901778487480807.1640206845.1640206845  2021-12-23        0.0   \n",
       "\n",
       "   hit_number hit_type           hit_referer  \\\n",
       "0          30    event                   NaN   \n",
       "1          41    event                   NaN   \n",
       "2          49    event                   NaN   \n",
       "3          46    event                   NaN   \n",
       "4          79    event                   NaN   \n",
       "5          41    event                   NaN   \n",
       "6         102    event                   NaN   \n",
       "7          85    event                   NaN   \n",
       "8         101    event  VloVXNWduHeTjUoDkjkO   \n",
       "9           1    event                   NaN   \n",
       "\n",
       "                                       hit_page_path event_category  \\\n",
       "0  sberauto.com/cars?utm_source_initial=google&ut...           quiz   \n",
       "1  sberauto.com/cars/fiat?city=1&city=18&rental_c...           quiz   \n",
       "2  sberauto.com/cars/all/volkswagen/polo/e994838f...           quiz   \n",
       "3  sberauto.com/cars?utm_source_initial=yandex&ut...           quiz   \n",
       "4  sberauto.com/cars/all/mercedes-benz/cla-klasse...           quiz   \n",
       "5  sberauto.com/cars?utm_source_initial=youtube&u...           quiz   \n",
       "6  sberauto.com/cars/toyota?isnew=false&rental_ca...           quiz   \n",
       "7  sberauto.com/cars/all/mercedes-benz/glc/f8f330...           quiz   \n",
       "8  sberauto.com/cars/all/kia/sorento/c38179cb?utm...           quiz   \n",
       "9  sberauto.com/cars/all/nissan/x-trail/0744675f?...       card_web   \n",
       "\n",
       "  event_action event_label  event_value  \n",
       "0    quiz_show         NaN          NaN  \n",
       "1    quiz_show         NaN          NaN  \n",
       "2    quiz_show         NaN          NaN  \n",
       "3    quiz_show         NaN          NaN  \n",
       "4    quiz_show         NaN          NaN  \n",
       "5    quiz_show         NaN          NaN  \n",
       "6    quiz_show         NaN          NaN  \n",
       "7    quiz_show         NaN          NaN  \n",
       "8    quiz_show         NaN          NaN  \n",
       "9    view_card         NaN          NaN  "
      ]
     },
     "execution_count": 5,
     "metadata": {},
     "output_type": "execute_result"
    }
   ],
   "source": [
    "df_hit = pd.read_csv('ga_hits.csv')\n",
    "df_hit.head(10)"
   ]
  },
  {
   "cell_type": "code",
   "execution_count": 6,
   "id": "e6c0e457-a313-418c-8d4a-8674c1fcb990",
   "metadata": {
    "tags": []
   },
   "outputs": [
    {
     "data": {
      "text/plain": [
       "(15726470, 11)"
      ]
     },
     "execution_count": 6,
     "metadata": {},
     "output_type": "execute_result"
    }
   ],
   "source": [
    "df_hit.shape"
   ]
  },
  {
   "cell_type": "code",
   "execution_count": 7,
   "id": "20968aa5-2003-4145-aa4a-ba96f39d8c82",
   "metadata": {
    "tags": []
   },
   "outputs": [
    {
     "data": {
      "text/html": [
       "<div>\n",
       "<style scoped>\n",
       "    .dataframe tbody tr th:only-of-type {\n",
       "        vertical-align: middle;\n",
       "    }\n",
       "\n",
       "    .dataframe tbody tr th {\n",
       "        vertical-align: top;\n",
       "    }\n",
       "\n",
       "    .dataframe thead th {\n",
       "        text-align: right;\n",
       "    }\n",
       "</style>\n",
       "<table border=\"1\" class=\"dataframe\">\n",
       "  <thead>\n",
       "    <tr style=\"text-align: right;\">\n",
       "      <th></th>\n",
       "      <th>session_id</th>\n",
       "      <th>hit_date</th>\n",
       "      <th>hit_time</th>\n",
       "      <th>hit_number</th>\n",
       "      <th>hit_type</th>\n",
       "      <th>hit_referer</th>\n",
       "      <th>hit_page_path</th>\n",
       "      <th>event_category</th>\n",
       "      <th>event_action</th>\n",
       "      <th>event_label</th>\n",
       "      <th>event_value</th>\n",
       "    </tr>\n",
       "  </thead>\n",
       "  <tbody>\n",
       "  </tbody>\n",
       "</table>\n",
       "</div>"
      ],
      "text/plain": [
       "Empty DataFrame\n",
       "Columns: [session_id, hit_date, hit_time, hit_number, hit_type, hit_referer, hit_page_path, event_category, event_action, event_label, event_value]\n",
       "Index: []"
      ]
     },
     "execution_count": 7,
     "metadata": {},
     "output_type": "execute_result"
    }
   ],
   "source": [
    "df_hit[df_hit.duplicated]"
   ]
  },
  {
   "cell_type": "markdown",
   "id": "27dc99e3-082e-49b1-80b1-642f404bc237",
   "metadata": {
    "jp-MarkdownHeadingCollapsed": true,
    "tags": []
   },
   "source": [
    "## Удаляем ненужные колонки, объединяем датафреймы"
   ]
  },
  {
   "cell_type": "code",
   "execution_count": 8,
   "id": "045f7619-d34b-462e-bcd3-8acfa119ea42",
   "metadata": {
    "tags": []
   },
   "outputs": [],
   "source": [
    "df_ses = df_ses.drop(columns = ['client_id', 'visit_date', 'visit_time', 'visit_number', 'utm_adcontent', \n",
    "                                'device_brand', 'device_screen_resolution', 'device_browser', 'device_model', \n",
    "                                'utm_keyword', 'device_os'], axis = 1)\n",
    "df_hit = df_hit.drop(columns = ['hit_date', 'hit_number', 'hit_type', 'hit_referer', 'event_category', \n",
    "                                'event_label', 'hit_time', 'event_value'], axis = 1)"
   ]
  },
  {
   "cell_type": "code",
   "execution_count": 9,
   "id": "fa1f4aeb-01d5-421f-b644-cea9a83f41ca",
   "metadata": {
    "tags": []
   },
   "outputs": [
    {
     "data": {
      "text/html": [
       "<div>\n",
       "<style scoped>\n",
       "    .dataframe tbody tr th:only-of-type {\n",
       "        vertical-align: middle;\n",
       "    }\n",
       "\n",
       "    .dataframe tbody tr th {\n",
       "        vertical-align: top;\n",
       "    }\n",
       "\n",
       "    .dataframe thead th {\n",
       "        text-align: right;\n",
       "    }\n",
       "</style>\n",
       "<table border=\"1\" class=\"dataframe\">\n",
       "  <thead>\n",
       "    <tr style=\"text-align: right;\">\n",
       "      <th></th>\n",
       "      <th>session_id</th>\n",
       "      <th>hit_page_path</th>\n",
       "      <th>event_action</th>\n",
       "      <th>utm_source</th>\n",
       "      <th>utm_medium</th>\n",
       "      <th>utm_campaign</th>\n",
       "      <th>device_category</th>\n",
       "      <th>geo_country</th>\n",
       "      <th>geo_city</th>\n",
       "    </tr>\n",
       "  </thead>\n",
       "  <tbody>\n",
       "    <tr>\n",
       "      <th>0</th>\n",
       "      <td>5639623078712724064.1640254056.1640254056</td>\n",
       "      <td>sberauto.com/cars?utm_source_initial=google&amp;ut...</td>\n",
       "      <td>quiz_show</td>\n",
       "      <td>kjsLglQLzykiRbcDiGcD</td>\n",
       "      <td>cpc</td>\n",
       "      <td>NaN</td>\n",
       "      <td>mobile</td>\n",
       "      <td>Russia</td>\n",
       "      <td>Saint Petersburg</td>\n",
       "    </tr>\n",
       "    <tr>\n",
       "      <th>1</th>\n",
       "      <td>5639623078712724064.1640254056.1640254056</td>\n",
       "      <td>sberauto.com/cars/all/kia/seltos/20f30855?utm_...</td>\n",
       "      <td>view_new_card</td>\n",
       "      <td>kjsLglQLzykiRbcDiGcD</td>\n",
       "      <td>cpc</td>\n",
       "      <td>NaN</td>\n",
       "      <td>mobile</td>\n",
       "      <td>Russia</td>\n",
       "      <td>Saint Petersburg</td>\n",
       "    </tr>\n",
       "    <tr>\n",
       "      <th>2</th>\n",
       "      <td>5639623078712724064.1640254056.1640254056</td>\n",
       "      <td>sberauto.com/cars/all/volkswagen/tiguan/0208cd...</td>\n",
       "      <td>view_new_card</td>\n",
       "      <td>kjsLglQLzykiRbcDiGcD</td>\n",
       "      <td>cpc</td>\n",
       "      <td>NaN</td>\n",
       "      <td>mobile</td>\n",
       "      <td>Russia</td>\n",
       "      <td>Saint Petersburg</td>\n",
       "    </tr>\n",
       "    <tr>\n",
       "      <th>3</th>\n",
       "      <td>5639623078712724064.1640254056.1640254056</td>\n",
       "      <td>sberauto.com/cars/all/volkswagen/tiguan/0208cd...</td>\n",
       "      <td>view_new_card</td>\n",
       "      <td>kjsLglQLzykiRbcDiGcD</td>\n",
       "      <td>cpc</td>\n",
       "      <td>NaN</td>\n",
       "      <td>mobile</td>\n",
       "      <td>Russia</td>\n",
       "      <td>Saint Petersburg</td>\n",
       "    </tr>\n",
       "    <tr>\n",
       "      <th>4</th>\n",
       "      <td>5639623078712724064.1640254056.1640254056</td>\n",
       "      <td>sberauto.com/cars/all/kia/seltos/20f30855?utm_...</td>\n",
       "      <td>view_new_card</td>\n",
       "      <td>kjsLglQLzykiRbcDiGcD</td>\n",
       "      <td>cpc</td>\n",
       "      <td>NaN</td>\n",
       "      <td>mobile</td>\n",
       "      <td>Russia</td>\n",
       "      <td>Saint Petersburg</td>\n",
       "    </tr>\n",
       "    <tr>\n",
       "      <th>5</th>\n",
       "      <td>5639623078712724064.1640254056.1640254056</td>\n",
       "      <td>sberauto.com/cars?utm_source_initial=google&amp;ut...</td>\n",
       "      <td>view_more_click</td>\n",
       "      <td>kjsLglQLzykiRbcDiGcD</td>\n",
       "      <td>cpc</td>\n",
       "      <td>NaN</td>\n",
       "      <td>mobile</td>\n",
       "      <td>Russia</td>\n",
       "      <td>Saint Petersburg</td>\n",
       "    </tr>\n",
       "    <tr>\n",
       "      <th>6</th>\n",
       "      <td>5639623078712724064.1640254056.1640254056</td>\n",
       "      <td>sberauto.com/cars?utm_source_initial=google&amp;ut...</td>\n",
       "      <td>search_form_search_btn</td>\n",
       "      <td>kjsLglQLzykiRbcDiGcD</td>\n",
       "      <td>cpc</td>\n",
       "      <td>NaN</td>\n",
       "      <td>mobile</td>\n",
       "      <td>Russia</td>\n",
       "      <td>Saint Petersburg</td>\n",
       "    </tr>\n",
       "    <tr>\n",
       "      <th>7</th>\n",
       "      <td>5639623078712724064.1640254056.1640254056</td>\n",
       "      <td>sberauto.com/cars?utm_source_initial=google&amp;ut...</td>\n",
       "      <td>sap_search_form_cost_to</td>\n",
       "      <td>kjsLglQLzykiRbcDiGcD</td>\n",
       "      <td>cpc</td>\n",
       "      <td>NaN</td>\n",
       "      <td>mobile</td>\n",
       "      <td>Russia</td>\n",
       "      <td>Saint Petersburg</td>\n",
       "    </tr>\n",
       "    <tr>\n",
       "      <th>8</th>\n",
       "      <td>5639623078712724064.1640254056.1640254056</td>\n",
       "      <td>sberauto.com/cars/all/volkswagen/tiguan/0208cd...</td>\n",
       "      <td>view_card</td>\n",
       "      <td>kjsLglQLzykiRbcDiGcD</td>\n",
       "      <td>cpc</td>\n",
       "      <td>NaN</td>\n",
       "      <td>mobile</td>\n",
       "      <td>Russia</td>\n",
       "      <td>Saint Petersburg</td>\n",
       "    </tr>\n",
       "    <tr>\n",
       "      <th>9</th>\n",
       "      <td>5639623078712724064.1640254056.1640254056</td>\n",
       "      <td>sberauto.com/cars/all/volvo/s90/a231b204?utm_s...</td>\n",
       "      <td>view_new_card</td>\n",
       "      <td>kjsLglQLzykiRbcDiGcD</td>\n",
       "      <td>cpc</td>\n",
       "      <td>NaN</td>\n",
       "      <td>mobile</td>\n",
       "      <td>Russia</td>\n",
       "      <td>Saint Petersburg</td>\n",
       "    </tr>\n",
       "  </tbody>\n",
       "</table>\n",
       "</div>"
      ],
      "text/plain": [
       "                                  session_id  \\\n",
       "0  5639623078712724064.1640254056.1640254056   \n",
       "1  5639623078712724064.1640254056.1640254056   \n",
       "2  5639623078712724064.1640254056.1640254056   \n",
       "3  5639623078712724064.1640254056.1640254056   \n",
       "4  5639623078712724064.1640254056.1640254056   \n",
       "5  5639623078712724064.1640254056.1640254056   \n",
       "6  5639623078712724064.1640254056.1640254056   \n",
       "7  5639623078712724064.1640254056.1640254056   \n",
       "8  5639623078712724064.1640254056.1640254056   \n",
       "9  5639623078712724064.1640254056.1640254056   \n",
       "\n",
       "                                       hit_page_path             event_action  \\\n",
       "0  sberauto.com/cars?utm_source_initial=google&ut...                quiz_show   \n",
       "1  sberauto.com/cars/all/kia/seltos/20f30855?utm_...            view_new_card   \n",
       "2  sberauto.com/cars/all/volkswagen/tiguan/0208cd...            view_new_card   \n",
       "3  sberauto.com/cars/all/volkswagen/tiguan/0208cd...            view_new_card   \n",
       "4  sberauto.com/cars/all/kia/seltos/20f30855?utm_...            view_new_card   \n",
       "5  sberauto.com/cars?utm_source_initial=google&ut...          view_more_click   \n",
       "6  sberauto.com/cars?utm_source_initial=google&ut...   search_form_search_btn   \n",
       "7  sberauto.com/cars?utm_source_initial=google&ut...  sap_search_form_cost_to   \n",
       "8  sberauto.com/cars/all/volkswagen/tiguan/0208cd...                view_card   \n",
       "9  sberauto.com/cars/all/volvo/s90/a231b204?utm_s...            view_new_card   \n",
       "\n",
       "             utm_source utm_medium utm_campaign device_category geo_country  \\\n",
       "0  kjsLglQLzykiRbcDiGcD        cpc          NaN          mobile      Russia   \n",
       "1  kjsLglQLzykiRbcDiGcD        cpc          NaN          mobile      Russia   \n",
       "2  kjsLglQLzykiRbcDiGcD        cpc          NaN          mobile      Russia   \n",
       "3  kjsLglQLzykiRbcDiGcD        cpc          NaN          mobile      Russia   \n",
       "4  kjsLglQLzykiRbcDiGcD        cpc          NaN          mobile      Russia   \n",
       "5  kjsLglQLzykiRbcDiGcD        cpc          NaN          mobile      Russia   \n",
       "6  kjsLglQLzykiRbcDiGcD        cpc          NaN          mobile      Russia   \n",
       "7  kjsLglQLzykiRbcDiGcD        cpc          NaN          mobile      Russia   \n",
       "8  kjsLglQLzykiRbcDiGcD        cpc          NaN          mobile      Russia   \n",
       "9  kjsLglQLzykiRbcDiGcD        cpc          NaN          mobile      Russia   \n",
       "\n",
       "           geo_city  \n",
       "0  Saint Petersburg  \n",
       "1  Saint Petersburg  \n",
       "2  Saint Petersburg  \n",
       "3  Saint Petersburg  \n",
       "4  Saint Petersburg  \n",
       "5  Saint Petersburg  \n",
       "6  Saint Petersburg  \n",
       "7  Saint Petersburg  \n",
       "8  Saint Petersburg  \n",
       "9  Saint Petersburg  "
      ]
     },
     "execution_count": 9,
     "metadata": {},
     "output_type": "execute_result"
    }
   ],
   "source": [
    "df = pd.merge(left = df_hit, right = df_ses, on = 'session_id', how = 'outer')\n",
    "df.head(10)"
   ]
  },
  {
   "cell_type": "code",
   "execution_count": 10,
   "id": "69c1e5ca-7e3f-41c0-a61e-871a2c570bad",
   "metadata": {
    "tags": []
   },
   "outputs": [],
   "source": [
    "df.to_csv('df.csv')"
   ]
  },
  {
   "cell_type": "markdown",
   "id": "1a5fac5e-e35b-4e5c-a29a-61ab533d1eaf",
   "metadata": {
    "jp-MarkdownHeadingCollapsed": true,
    "tags": []
   },
   "source": [
    "## Заполняем пропуски"
   ]
  },
  {
   "cell_type": "markdown",
   "id": "06ddb893-f266-403e-8e8e-d09bc58b3f2f",
   "metadata": {},
   "source": [
    "Смотрим сколько всего пропусков в %"
   ]
  },
  {
   "cell_type": "code",
   "execution_count": 11,
   "id": "f88913b1-53ea-41a8-b41b-f8d0b904684a",
   "metadata": {
    "tags": []
   },
   "outputs": [
    {
     "data": {
      "text/plain": [
       "session_id          0.000000\n",
       "hit_page_path       0.805942\n",
       "event_action        0.805942\n",
       "utm_source          0.264737\n",
       "utm_medium          0.260189\n",
       "utm_campaign       14.282862\n",
       "device_category     0.260189\n",
       "geo_country         0.260189\n",
       "geo_city            0.260189\n",
       "dtype: float64"
      ]
     },
     "execution_count": 11,
     "metadata": {},
     "output_type": "execute_result"
    }
   ],
   "source": [
    "df.isnull().sum() / len(df) *100"
   ]
  },
  {
   "cell_type": "markdown",
   "id": "83bc5f10-b6f2-4f0f-beb9-400cad838ba1",
   "metadata": {},
   "source": [
    "Пропуски в utm_source, utm_medium, device_category, geo_country, geo_city заполняем самым частым значением"
   ]
  },
  {
   "cell_type": "markdown",
   "id": "ebdd233d-cbbb-4a14-be21-046163ffe1c7",
   "metadata": {},
   "source": [
    "utm_source"
   ]
  },
  {
   "cell_type": "code",
   "execution_count": 12,
   "id": "a2cb7ddc-0e34-448b-a0cf-959298787038",
   "metadata": {
    "tags": []
   },
   "outputs": [
    {
     "data": {
      "text/plain": [
       "ZpYIoDJMcFzVoPFsHGJL    5177437\n",
       "fDLlAcSmythWSCVMvqvL    3274441\n",
       "kjsLglQLzykiRbcDiGcD    1793607\n",
       "bByPQxmDaMXgpHeypKSM    1353734\n",
       "BHcvLfOaCWvWTykYqHVe    1236428\n",
       "                         ...   \n",
       "VdeFdoGCqZBxFfKSHNLl          1\n",
       "LBaWJEeycBIqEqUqkoqw          1\n",
       "OOVxbzAjWMBOhTQWJgLx          1\n",
       "CHdbSXINvRmKaAtGIGzz          1\n",
       "sMpOrnpSyTEXdUATtpcS          1\n",
       "Name: utm_source, Length: 293, dtype: int64"
      ]
     },
     "execution_count": 12,
     "metadata": {},
     "output_type": "execute_result"
    }
   ],
   "source": [
    "df['utm_source'].value_counts()"
   ]
  },
  {
   "cell_type": "code",
   "execution_count": 13,
   "id": "49c25e19-9bcf-42fb-a176-b5a8f723047d",
   "metadata": {
    "tags": []
   },
   "outputs": [],
   "source": [
    "df['utm_source'] = df['utm_source'].fillna('ZpYIoDJMcFzVoPFsHGJL')"
   ]
  },
  {
   "cell_type": "markdown",
   "id": "70d33f38-5421-4ba9-97cc-321e03a58068",
   "metadata": {},
   "source": [
    "utm_medium"
   ]
  },
  {
   "cell_type": "code",
   "execution_count": 14,
   "id": "df316478-20d3-43b3-81ef-d00de993787d",
   "metadata": {
    "tags": []
   },
   "outputs": [
    {
     "data": {
      "text/plain": [
       "banner               4925629\n",
       "cpc                  3335902\n",
       "(none)               3274441\n",
       "referral             1935658\n",
       "cpm                   751057\n",
       "organic               654207\n",
       "push                  253189\n",
       "email                 242037\n",
       "stories                95714\n",
       "blogger_channel        87371\n",
       "smartbanner            49439\n",
       "tg                     33913\n",
       "blogger_stories        33154\n",
       "cpa                    32599\n",
       "cpv                    27602\n",
       "post                   21630\n",
       "outlook                14765\n",
       "smm                    13179\n",
       "clicks                  9014\n",
       "app                     5431\n",
       "(not set)               4630\n",
       "info_text               3409\n",
       "blogger_header          2899\n",
       "sms                     2096\n",
       "landing                 1076\n",
       "partner                  584\n",
       "CPM                      416\n",
       "link                     377\n",
       "yandex_cpc               252\n",
       "vk_smm                   251\n",
       "medium                   153\n",
       "fb_smm                   148\n",
       "static                   137\n",
       "google_cpc               132\n",
       "cbaafe                   114\n",
       "article                   88\n",
       "nkp                       58\n",
       "ok_smm                    58\n",
       "web_polka                 46\n",
       "social                    39\n",
       "main_polka                23\n",
       "sber_app                  20\n",
       "landing_interests         12\n",
       "qrcodevideo                8\n",
       "users_msk                  8\n",
       "dom_click                  5\n",
       "catalogue                  5\n",
       "last                       4\n",
       "promo_sber                 4\n",
       "linktest                   3\n",
       "reach                      3\n",
       "promo_sbol                 2\n",
       "qr                         1\n",
       "Sbol_catalog               1\n",
       "tablet                     1\n",
       "desktop                    1\n",
       "Name: utm_medium, dtype: int64"
      ]
     },
     "execution_count": 14,
     "metadata": {},
     "output_type": "execute_result"
    }
   ],
   "source": [
    "df['utm_medium'].value_counts()"
   ]
  },
  {
   "cell_type": "code",
   "execution_count": 15,
   "id": "fb9f6005-141f-42be-b522-a6b91fcbb29f",
   "metadata": {
    "tags": []
   },
   "outputs": [],
   "source": [
    "df['utm_medium'] = df['utm_medium'].fillna('banner')"
   ]
  },
  {
   "cell_type": "markdown",
   "id": "03807037-6010-4937-bf0b-b6645cd1249a",
   "metadata": {},
   "source": [
    "device_category"
   ]
  },
  {
   "cell_type": "code",
   "execution_count": 16,
   "id": "d3ae3844-f107-44a1-8807-91da98ead2c2",
   "metadata": {
    "tags": []
   },
   "outputs": [
    {
     "data": {
      "text/plain": [
       "mobile     11701733\n",
       "desktop     3965226\n",
       "tablet       146036\n",
       "Name: device_category, dtype: int64"
      ]
     },
     "execution_count": 16,
     "metadata": {},
     "output_type": "execute_result"
    }
   ],
   "source": [
    "df['device_category'].value_counts()"
   ]
  },
  {
   "cell_type": "code",
   "execution_count": 17,
   "id": "2f0ccbb4-4706-4151-b8be-327e2435e40c",
   "metadata": {
    "tags": []
   },
   "outputs": [],
   "source": [
    "df['device_category'] = df['device_category'].fillna('mobile')"
   ]
  },
  {
   "cell_type": "markdown",
   "id": "3367f956-c191-4deb-87a6-94ffbc50e823",
   "metadata": {},
   "source": [
    "geo_country"
   ]
  },
  {
   "cell_type": "code",
   "execution_count": 18,
   "id": "f966d1de-8edc-480b-b4da-ee2d6408604d",
   "metadata": {
    "tags": []
   },
   "outputs": [
    {
     "data": {
      "text/plain": [
       "Russia           15389050\n",
       "Ukraine             76840\n",
       "United States       38032\n",
       "Belarus             30003\n",
       "Germany             25263\n",
       "                   ...   \n",
       "Zambia                  1\n",
       "Chad                    1\n",
       "Barbados                1\n",
       "Kosovo                  1\n",
       "Niger                   1\n",
       "Name: geo_country, Length: 166, dtype: int64"
      ]
     },
     "execution_count": 18,
     "metadata": {},
     "output_type": "execute_result"
    }
   ],
   "source": [
    "df['geo_country'].value_counts()"
   ]
  },
  {
   "cell_type": "code",
   "execution_count": 19,
   "id": "3124aa51-8264-43a1-b0c9-c4f2fd609e10",
   "metadata": {
    "tags": []
   },
   "outputs": [],
   "source": [
    "df['geo_country'] = df['geo_country'].fillna('Russia')"
   ]
  },
  {
   "cell_type": "markdown",
   "id": "016295b9-8879-44b1-a0ed-fc983b2a0f5b",
   "metadata": {},
   "source": [
    "geo_city"
   ]
  },
  {
   "cell_type": "code",
   "execution_count": 20,
   "id": "772e8825-b0c1-43f5-8399-66f19a7a9623",
   "metadata": {
    "tags": []
   },
   "outputs": [
    {
     "data": {
      "text/plain": [
       "Moscow              6849519\n",
       "Saint Petersburg    2383906\n",
       "(not set)            601154\n",
       "Yekaterinburg        330534\n",
       "Krasnodar            295484\n",
       "                     ...   \n",
       "Plock                     1\n",
       "Appenweier                1\n",
       "Netphen                   1\n",
       "Sunne                     1\n",
       "Wonju-si                  1\n",
       "Name: geo_city, Length: 2548, dtype: int64"
      ]
     },
     "execution_count": 20,
     "metadata": {},
     "output_type": "execute_result"
    }
   ],
   "source": [
    "df['geo_city'].value_counts()"
   ]
  },
  {
   "cell_type": "code",
   "execution_count": 21,
   "id": "b6aa4d58-366c-4fba-bb6a-08a2dfc1a891",
   "metadata": {
    "tags": []
   },
   "outputs": [],
   "source": [
    "df['geo_city'] = df['geo_city'].fillna('Moscow')"
   ]
  },
  {
   "cell_type": "markdown",
   "id": "95b2126c-d134-4de1-9676-67dee838da4e",
   "metadata": {
    "tags": []
   },
   "source": [
    "В колонке event_action сделаем замену: если действие является целевым, заменяем на 1, если нет - 0, предварительно заполнив пропущенные значения третьем по частоте значением (так как первые два значения практически равны между собой)"
   ]
  },
  {
   "cell_type": "code",
   "execution_count": 22,
   "id": "c458307c-e75a-46d4-8b44-89c28af7879e",
   "metadata": {
    "tags": []
   },
   "outputs": [
    {
     "data": {
      "text/plain": [
       "view_card                   3558985\n",
       "view_new_card               3551009\n",
       "sub_landing                 1798117\n",
       "go_to_car_card               973666\n",
       "sub_view_cars_click          791515\n",
       "                             ...   \n",
       "show_pos_status_declined          1\n",
       "titul_page_view                   1\n",
       "click_titul                       1\n",
       "click_on_apple                    1\n",
       "click_on_android                  1\n",
       "Name: event_action, Length: 230, dtype: int64"
      ]
     },
     "execution_count": 22,
     "metadata": {},
     "output_type": "execute_result"
    }
   ],
   "source": [
    "df['event_action'].value_counts()"
   ]
  },
  {
   "cell_type": "code",
   "execution_count": 23,
   "id": "4a95a0f1-7958-433c-ab12-9acc2612160e",
   "metadata": {
    "tags": []
   },
   "outputs": [],
   "source": [
    "df['event_action'] = df['event_action'].fillna('sub_landing')"
   ]
  },
  {
   "cell_type": "code",
   "execution_count": 24,
   "id": "367aa206-7634-423b-a208-ed80cf3e0ebf",
   "metadata": {
    "tags": []
   },
   "outputs": [],
   "source": [
    "df['event_action'] = df['event_action'].replace(['sub_car_claim_click', 'sub_car_claim_submit_click', 'sub_open_dialog_click', \n",
    "                                                 'sub_custom_question_submit_click', 'sub_call_number_click', 'sub_callback_submit_click', \n",
    "                                                 'sub_submit_success','sub_car_request_submit_click'],[1, 1, 1, 1, 1, 1, 1, 1])    "
   ]
  },
  {
   "cell_type": "code",
   "execution_count": 25,
   "id": "572c33d4-ae7c-4ec3-a766-35ba4e388769",
   "metadata": {
    "tags": []
   },
   "outputs": [],
   "source": [
    "df.loc[df['event_action'] != 1, 'event_action'] = 0"
   ]
  },
  {
   "cell_type": "code",
   "execution_count": 26,
   "id": "76690cc9-e24c-4380-8b4b-4696e50201b8",
   "metadata": {
    "tags": []
   },
   "outputs": [
    {
     "data": {
      "text/plain": [
       "0    15749338\n",
       "1      104908\n",
       "Name: event_action, dtype: int64"
      ]
     },
     "execution_count": 26,
     "metadata": {},
     "output_type": "execute_result"
    }
   ],
   "source": [
    "df.event_action.value_counts()"
   ]
  },
  {
   "cell_type": "markdown",
   "id": "a9481d60-c2e4-4c27-b78a-486204165532",
   "metadata": {},
   "source": [
    "utm_campaign"
   ]
  },
  {
   "cell_type": "markdown",
   "id": "ede10df3-cc8d-4b4c-a5a6-a3fb183a4b3d",
   "metadata": {
    "tags": []
   },
   "source": [
    "Заменим 15 % отсутствующих значений utm_campaign на 'other'"
   ]
  },
  {
   "cell_type": "code",
   "execution_count": 27,
   "id": "bd72b382-b4b3-47e6-8348-5c77e6798f27",
   "metadata": {
    "tags": []
   },
   "outputs": [],
   "source": [
    "df['utm_campaign'] = df['utm_campaign'].fillna('other')"
   ]
  },
  {
   "cell_type": "markdown",
   "id": "c7faa32c-4527-47fc-8142-6f26fe067829",
   "metadata": {},
   "source": [
    "hit_page_path"
   ]
  },
  {
   "cell_type": "markdown",
   "id": "345da19d-4bcd-49da-bf6f-8031c72620b4",
   "metadata": {},
   "source": [
    "Заполним пропущенные значения в hit_page_path самым частым значением"
   ]
  },
  {
   "cell_type": "code",
   "execution_count": 28,
   "id": "b5cb6d89-d693-4bd6-86cc-525269230945",
   "metadata": {
    "tags": []
   },
   "outputs": [
    {
     "data": {
      "text/plain": [
       "podpiska.sberauto.com/                                                                                                                                                                                                                                                                                                                                                                                                                                                                                                                                              2793639\n",
       "sberauto.com/cars?city=1&rental_page=rental_only&rental_car=rental_only&city=18                                                                                                                                                                                                                                                                                                                                                                                                                                                                                     1103484\n",
       "sberauto.com/cars?utm_source_initial=sbol&utm_medium_initial=banner&utm_campaign_initial=LEoPHuyFvzoNfnzGgfcd&utm_content_initial=vCIpmpaGBnIQhyYNkXqp&city=1&rental_page=rental_only&rental_car=rental_only&city=18                                                                                                                                                                                                                                                                                                                                                 754215\n",
       "sberauto.com/cars/f28947a1?rental_page=rental_car                                                                                                                                                                                                                                                                                                                                                                                                                                                                                                                    264878\n",
       "sberauto.com/cars/bf24b977?rental_page=rental_car                                                                                                                                                                                                                                                                                                                                                                                                                                                                                                                    263966\n",
       "                                                                                                                                                                                                                                                                                                                                                                                                                                                                                                                                                                     ...   \n",
       "podpiska.sberauto.com/?yclid=4753672472687847696                                                                                                                                                                                                                                                                                                                                                                                                                                                                                                                          1\n",
       "sberauto.com/cars?utm_source_initial=yandex&utm_medium_initial=cpc&utm_campaign_initial=JwYIveaHVpeeRZloQCfF|fVHJqnfOFSWcsCBViJGr&utm_content_initial=yXzSAJWSuRbYeLFyMVFl|YjagTPsykUtMSrHgFPJc|xAEYTlJDbQNwQTLGxICQ|dwfnIkMEwJhmnyojmAoc|lFpAoUqEvHoyZfCNRuCR|qEQeQoWWnoVEMwsyhUcz|rjbbNGNkjGThUJNtsWZQ|PmdxcXFdmnXhLVKwdKkP|ZIKCVYXYgRrZdwlVkEEf|HbolMJUevblAbkHClEQa|kqZPVvZmXADsCZxIQwbv|vnTlRpYmthtVDImMLSmr|OfdDOXSwHYclonQJpPxh|gfBTmFNHMdBSLnykFtFG|HbolMJUevblAbkHClEQa&utm_term_initial=&city=1&rental_page=rental_only&rental_car=rental_only&city=18          1\n",
       "sberauto.com/cars?utm_source_initial=yandex&utm_medium_initial=cpc&utm_campaign_initial=vXsFkagGabkcWKlgLzSg|sKuhgZXGwZSwSoGyRIEH&utm_content_initial=yXzSAJWSuRbYeLFyMVFl|IaitBhkxXwnKFSuudkXI|xAEYTlJDbQNwQTLGxICQ|mUmpYvSrQnkSPeSTzQMq|lFpAoUqEvHoyZfCNRuCR|pucKZkLDtpMDBTobJAJG|rjbbNGNkjGThUJNtsWZQ|LwpVzVhJpffUKqUmgLQw|ZIKCVYXYgRrZdwlVkEEf|HbolMJUevblAbkHClEQa|kqZPVvZmXADsCZxIQwbv|vnTlRpYmthtVDImMLSmr|OfdDOXSwHYclonQJpPxh|QBAaKpXLJVgApKbecAYd|HbolMJUevblAbkHClEQa&utm_term_initial=&city=1&rental_page=rental_only&rental_car=rental_only&city=18          1\n",
       "sberauto.com/cars?utm_source_initial=google&utm_medium_initial=cpc&utm_campaign_initial=JwYIveaHVpeeRZloQCfF|ZxCjNTHeXPmooDEOFIuR&utm_content_initial=yXzSAJWSuRbYeLFyMVFl|nxheuoccCUneLBnHdxMC|xAEYTlJDbQNwQTLGxICQ|tdkLuROGZtRLOEIAAKmP|lFpAoUqEvHoyZfCNRuCR|OiHVFcVxQOStkNHpqDCV|dtYJKUplNmmKCOfiziff|RVrwoxwgqSkKchwrZUtL|aHSPdWXGkJravzWuwcJA|HbolMJUevblAbkHClEQa|kqZPVvZmXADsCZxIQwbv|QaGunexmXrztCWbLcYxs|OfdDOXSwHYclonQJpPxh|fLIUIcuHShfSSNbFBsxd|HbolMJUevblAbkHClEQa&utm_term_initial=&city=1&rental_page=rental_only&rental_car=rental_only&city=18          1\n",
       "sberauto.com/moskva/cars?datefrom=2021&rental_car=rental_only&rental_page=rental_only&page=2                                                                                                                                                                                                                                                                                                                                                                                                                                                                              1\n",
       "Name: hit_page_path, Length: 342715, dtype: int64"
      ]
     },
     "execution_count": 28,
     "metadata": {},
     "output_type": "execute_result"
    }
   ],
   "source": [
    "df['hit_page_path'].value_counts()"
   ]
  },
  {
   "cell_type": "code",
   "execution_count": 29,
   "id": "d6a10975-13ad-43b3-9f11-2b8fabeffe4a",
   "metadata": {
    "tags": []
   },
   "outputs": [],
   "source": [
    "df['hit_page_path'] = df['hit_page_path'].fillna('podpiska.sberauto.com/')"
   ]
  },
  {
   "cell_type": "markdown",
   "id": "6af01ced-b7b1-48ac-bc3f-f833a9330df4",
   "metadata": {},
   "source": [
    "Из ссылки в колонке hit_page_path достанем модель автомобиля, где это возможно. В остальных случаях заменим ссылку на \"other\""
   ]
  },
  {
   "cell_type": "code",
   "execution_count": 30,
   "id": "cfb4b26d-1079-46cd-b7e3-b17f55dfc11f",
   "metadata": {
    "tags": []
   },
   "outputs": [
    {
     "name": "stderr",
     "output_type": "stream",
     "text": [
      "C:\\Users\\oksan\\AppData\\Local\\Temp\\ipykernel_10756\\3896487424.py:1: FutureWarning: In a future version of pandas all arguments of StringMethods.split except for the argument 'pat' will be keyword-only.\n",
      "  df_expand = df.loc[df['hit_page_path'].str.startswith('sberauto.com/cars/all/'), 'hit_page_path'].str.split('/', 5, expand = True)\n"
     ]
    },
    {
     "data": {
      "text/html": [
       "<div>\n",
       "<style scoped>\n",
       "    .dataframe tbody tr th:only-of-type {\n",
       "        vertical-align: middle;\n",
       "    }\n",
       "\n",
       "    .dataframe tbody tr th {\n",
       "        vertical-align: top;\n",
       "    }\n",
       "\n",
       "    .dataframe thead th {\n",
       "        text-align: right;\n",
       "    }\n",
       "</style>\n",
       "<table border=\"1\" class=\"dataframe\">\n",
       "  <thead>\n",
       "    <tr style=\"text-align: right;\">\n",
       "      <th></th>\n",
       "      <th>0</th>\n",
       "      <th>1</th>\n",
       "      <th>2</th>\n",
       "      <th>3</th>\n",
       "      <th>4</th>\n",
       "      <th>5</th>\n",
       "    </tr>\n",
       "  </thead>\n",
       "  <tbody>\n",
       "    <tr>\n",
       "      <th>1</th>\n",
       "      <td>sberauto.com</td>\n",
       "      <td>cars</td>\n",
       "      <td>all</td>\n",
       "      <td>kia</td>\n",
       "      <td>seltos</td>\n",
       "      <td>20f30855?utm_source_initial=google&amp;utm_medium_...</td>\n",
       "    </tr>\n",
       "    <tr>\n",
       "      <th>2</th>\n",
       "      <td>sberauto.com</td>\n",
       "      <td>cars</td>\n",
       "      <td>all</td>\n",
       "      <td>volkswagen</td>\n",
       "      <td>tiguan</td>\n",
       "      <td>0208cd2b?utm_source_initial=google&amp;utm_medium_...</td>\n",
       "    </tr>\n",
       "    <tr>\n",
       "      <th>3</th>\n",
       "      <td>sberauto.com</td>\n",
       "      <td>cars</td>\n",
       "      <td>all</td>\n",
       "      <td>volkswagen</td>\n",
       "      <td>tiguan</td>\n",
       "      <td>0208cd2b?utm_source_initial=google&amp;utm_medium_...</td>\n",
       "    </tr>\n",
       "    <tr>\n",
       "      <th>4</th>\n",
       "      <td>sberauto.com</td>\n",
       "      <td>cars</td>\n",
       "      <td>all</td>\n",
       "      <td>kia</td>\n",
       "      <td>seltos</td>\n",
       "      <td>20f30855?utm_source_initial=google&amp;utm_medium_...</td>\n",
       "    </tr>\n",
       "    <tr>\n",
       "      <th>8</th>\n",
       "      <td>sberauto.com</td>\n",
       "      <td>cars</td>\n",
       "      <td>all</td>\n",
       "      <td>volkswagen</td>\n",
       "      <td>tiguan</td>\n",
       "      <td>0208cd2b?utm_source_initial=google&amp;utm_medium_...</td>\n",
       "    </tr>\n",
       "    <tr>\n",
       "      <th>...</th>\n",
       "      <td>...</td>\n",
       "      <td>...</td>\n",
       "      <td>...</td>\n",
       "      <td>...</td>\n",
       "      <td>...</td>\n",
       "      <td>...</td>\n",
       "    </tr>\n",
       "    <tr>\n",
       "      <th>15725994</th>\n",
       "      <td>sberauto.com</td>\n",
       "      <td>cars</td>\n",
       "      <td>all</td>\n",
       "      <td>volkswagen</td>\n",
       "      <td>touareg</td>\n",
       "      <td>9e072915?rental_page=rental_car</td>\n",
       "    </tr>\n",
       "    <tr>\n",
       "      <th>15726458</th>\n",
       "      <td>sberauto.com</td>\n",
       "      <td>cars</td>\n",
       "      <td>all</td>\n",
       "      <td>lada-vaz</td>\n",
       "      <td>vesta</td>\n",
       "      <td>2fc745ed?utm_source_initial=sbol&amp;utm_medium_in...</td>\n",
       "    </tr>\n",
       "    <tr>\n",
       "      <th>15726464</th>\n",
       "      <td>sberauto.com</td>\n",
       "      <td>cars</td>\n",
       "      <td>all</td>\n",
       "      <td>volkswagen</td>\n",
       "      <td>touareg</td>\n",
       "      <td>9e072915?utm_source_initial=sbol&amp;utm_medium_in...</td>\n",
       "    </tr>\n",
       "    <tr>\n",
       "      <th>15726466</th>\n",
       "      <td>sberauto.com</td>\n",
       "      <td>cars</td>\n",
       "      <td>all</td>\n",
       "      <td>renault</td>\n",
       "      <td>logan</td>\n",
       "      <td>8c3c73f2?utm_source_initial=telegram&amp;utm_mediu...</td>\n",
       "    </tr>\n",
       "    <tr>\n",
       "      <th>15726467</th>\n",
       "      <td>sberauto.com</td>\n",
       "      <td>cars</td>\n",
       "      <td>all</td>\n",
       "      <td>kia</td>\n",
       "      <td>rio</td>\n",
       "      <td>fee33fe6?rental_page=rental_car</td>\n",
       "    </tr>\n",
       "  </tbody>\n",
       "</table>\n",
       "<p>3379313 rows × 6 columns</p>\n",
       "</div>"
      ],
      "text/plain": [
       "                     0     1    2           3        4  \\\n",
       "1         sberauto.com  cars  all         kia   seltos   \n",
       "2         sberauto.com  cars  all  volkswagen   tiguan   \n",
       "3         sberauto.com  cars  all  volkswagen   tiguan   \n",
       "4         sberauto.com  cars  all         kia   seltos   \n",
       "8         sberauto.com  cars  all  volkswagen   tiguan   \n",
       "...                ...   ...  ...         ...      ...   \n",
       "15725994  sberauto.com  cars  all  volkswagen  touareg   \n",
       "15726458  sberauto.com  cars  all    lada-vaz    vesta   \n",
       "15726464  sberauto.com  cars  all  volkswagen  touareg   \n",
       "15726466  sberauto.com  cars  all     renault    logan   \n",
       "15726467  sberauto.com  cars  all         kia      rio   \n",
       "\n",
       "                                                          5  \n",
       "1         20f30855?utm_source_initial=google&utm_medium_...  \n",
       "2         0208cd2b?utm_source_initial=google&utm_medium_...  \n",
       "3         0208cd2b?utm_source_initial=google&utm_medium_...  \n",
       "4         20f30855?utm_source_initial=google&utm_medium_...  \n",
       "8         0208cd2b?utm_source_initial=google&utm_medium_...  \n",
       "...                                                     ...  \n",
       "15725994                    9e072915?rental_page=rental_car  \n",
       "15726458  2fc745ed?utm_source_initial=sbol&utm_medium_in...  \n",
       "15726464  9e072915?utm_source_initial=sbol&utm_medium_in...  \n",
       "15726466  8c3c73f2?utm_source_initial=telegram&utm_mediu...  \n",
       "15726467                    fee33fe6?rental_page=rental_car  \n",
       "\n",
       "[3379313 rows x 6 columns]"
      ]
     },
     "execution_count": 30,
     "metadata": {},
     "output_type": "execute_result"
    }
   ],
   "source": [
    "df_expand = df.loc[df['hit_page_path'].str.startswith('sberauto.com/cars/all/'), 'hit_page_path'].str.split('/', 5, expand = True)\n",
    "df_expand"
   ]
  },
  {
   "cell_type": "code",
   "execution_count": 31,
   "id": "a8c28ce7-3c8d-4148-8963-a3115d78e2af",
   "metadata": {
    "tags": []
   },
   "outputs": [
    {
     "data": {
      "text/html": [
       "<div>\n",
       "<style scoped>\n",
       "    .dataframe tbody tr th:only-of-type {\n",
       "        vertical-align: middle;\n",
       "    }\n",
       "\n",
       "    .dataframe tbody tr th {\n",
       "        vertical-align: top;\n",
       "    }\n",
       "\n",
       "    .dataframe thead th {\n",
       "        text-align: right;\n",
       "    }\n",
       "</style>\n",
       "<table border=\"1\" class=\"dataframe\">\n",
       "  <thead>\n",
       "    <tr style=\"text-align: right;\">\n",
       "      <th></th>\n",
       "      <th>session_id</th>\n",
       "      <th>hit_page_path</th>\n",
       "      <th>event_action</th>\n",
       "      <th>utm_source</th>\n",
       "      <th>utm_medium</th>\n",
       "      <th>utm_campaign</th>\n",
       "      <th>device_category</th>\n",
       "      <th>geo_country</th>\n",
       "      <th>geo_city</th>\n",
       "      <th>0</th>\n",
       "      <th>1</th>\n",
       "      <th>2</th>\n",
       "      <th>3</th>\n",
       "      <th>4</th>\n",
       "      <th>5</th>\n",
       "    </tr>\n",
       "  </thead>\n",
       "  <tbody>\n",
       "    <tr>\n",
       "      <th>0</th>\n",
       "      <td>5639623078712724064.1640254056.1640254056</td>\n",
       "      <td>sberauto.com/cars?utm_source_initial=google&amp;ut...</td>\n",
       "      <td>0</td>\n",
       "      <td>kjsLglQLzykiRbcDiGcD</td>\n",
       "      <td>cpc</td>\n",
       "      <td>other</td>\n",
       "      <td>mobile</td>\n",
       "      <td>Russia</td>\n",
       "      <td>Saint Petersburg</td>\n",
       "      <td>NaN</td>\n",
       "      <td>NaN</td>\n",
       "      <td>NaN</td>\n",
       "      <td>NaN</td>\n",
       "      <td>NaN</td>\n",
       "      <td>NaN</td>\n",
       "    </tr>\n",
       "    <tr>\n",
       "      <th>1</th>\n",
       "      <td>5639623078712724064.1640254056.1640254056</td>\n",
       "      <td>sberauto.com/cars/all/kia/seltos/20f30855?utm_...</td>\n",
       "      <td>0</td>\n",
       "      <td>kjsLglQLzykiRbcDiGcD</td>\n",
       "      <td>cpc</td>\n",
       "      <td>other</td>\n",
       "      <td>mobile</td>\n",
       "      <td>Russia</td>\n",
       "      <td>Saint Petersburg</td>\n",
       "      <td>sberauto.com</td>\n",
       "      <td>cars</td>\n",
       "      <td>all</td>\n",
       "      <td>kia</td>\n",
       "      <td>seltos</td>\n",
       "      <td>20f30855?utm_source_initial=google&amp;utm_medium_...</td>\n",
       "    </tr>\n",
       "    <tr>\n",
       "      <th>2</th>\n",
       "      <td>5639623078712724064.1640254056.1640254056</td>\n",
       "      <td>sberauto.com/cars/all/volkswagen/tiguan/0208cd...</td>\n",
       "      <td>0</td>\n",
       "      <td>kjsLglQLzykiRbcDiGcD</td>\n",
       "      <td>cpc</td>\n",
       "      <td>other</td>\n",
       "      <td>mobile</td>\n",
       "      <td>Russia</td>\n",
       "      <td>Saint Petersburg</td>\n",
       "      <td>sberauto.com</td>\n",
       "      <td>cars</td>\n",
       "      <td>all</td>\n",
       "      <td>volkswagen</td>\n",
       "      <td>tiguan</td>\n",
       "      <td>0208cd2b?utm_source_initial=google&amp;utm_medium_...</td>\n",
       "    </tr>\n",
       "    <tr>\n",
       "      <th>3</th>\n",
       "      <td>5639623078712724064.1640254056.1640254056</td>\n",
       "      <td>sberauto.com/cars/all/volkswagen/tiguan/0208cd...</td>\n",
       "      <td>0</td>\n",
       "      <td>kjsLglQLzykiRbcDiGcD</td>\n",
       "      <td>cpc</td>\n",
       "      <td>other</td>\n",
       "      <td>mobile</td>\n",
       "      <td>Russia</td>\n",
       "      <td>Saint Petersburg</td>\n",
       "      <td>sberauto.com</td>\n",
       "      <td>cars</td>\n",
       "      <td>all</td>\n",
       "      <td>volkswagen</td>\n",
       "      <td>tiguan</td>\n",
       "      <td>0208cd2b?utm_source_initial=google&amp;utm_medium_...</td>\n",
       "    </tr>\n",
       "    <tr>\n",
       "      <th>4</th>\n",
       "      <td>5639623078712724064.1640254056.1640254056</td>\n",
       "      <td>sberauto.com/cars/all/kia/seltos/20f30855?utm_...</td>\n",
       "      <td>0</td>\n",
       "      <td>kjsLglQLzykiRbcDiGcD</td>\n",
       "      <td>cpc</td>\n",
       "      <td>other</td>\n",
       "      <td>mobile</td>\n",
       "      <td>Russia</td>\n",
       "      <td>Saint Petersburg</td>\n",
       "      <td>sberauto.com</td>\n",
       "      <td>cars</td>\n",
       "      <td>all</td>\n",
       "      <td>kia</td>\n",
       "      <td>seltos</td>\n",
       "      <td>20f30855?utm_source_initial=google&amp;utm_medium_...</td>\n",
       "    </tr>\n",
       "    <tr>\n",
       "      <th>...</th>\n",
       "      <td>...</td>\n",
       "      <td>...</td>\n",
       "      <td>...</td>\n",
       "      <td>...</td>\n",
       "      <td>...</td>\n",
       "      <td>...</td>\n",
       "      <td>...</td>\n",
       "      <td>...</td>\n",
       "      <td>...</td>\n",
       "      <td>...</td>\n",
       "      <td>...</td>\n",
       "      <td>...</td>\n",
       "      <td>...</td>\n",
       "      <td>...</td>\n",
       "      <td>...</td>\n",
       "    </tr>\n",
       "    <tr>\n",
       "      <th>15854241</th>\n",
       "      <td>9055129193028075829.1639938697.1639938697</td>\n",
       "      <td>podpiska.sberauto.com/</td>\n",
       "      <td>0</td>\n",
       "      <td>kjsLglQLzykiRbcDiGcD</td>\n",
       "      <td>cpc</td>\n",
       "      <td>other</td>\n",
       "      <td>mobile</td>\n",
       "      <td>Russia</td>\n",
       "      <td>Moscow</td>\n",
       "      <td>NaN</td>\n",
       "      <td>NaN</td>\n",
       "      <td>NaN</td>\n",
       "      <td>NaN</td>\n",
       "      <td>NaN</td>\n",
       "      <td>NaN</td>\n",
       "    </tr>\n",
       "    <tr>\n",
       "      <th>15854242</th>\n",
       "      <td>9055187445667825414.1637582599.1637582599</td>\n",
       "      <td>podpiska.sberauto.com/</td>\n",
       "      <td>0</td>\n",
       "      <td>QxAxdyPLuQMEcrdZWdWb</td>\n",
       "      <td>cpc</td>\n",
       "      <td>KXRJMPPRGoMIgkFfvZpk</td>\n",
       "      <td>mobile</td>\n",
       "      <td>United States</td>\n",
       "      <td>Forest City</td>\n",
       "      <td>NaN</td>\n",
       "      <td>NaN</td>\n",
       "      <td>NaN</td>\n",
       "      <td>NaN</td>\n",
       "      <td>NaN</td>\n",
       "      <td>NaN</td>\n",
       "    </tr>\n",
       "    <tr>\n",
       "      <th>15854243</th>\n",
       "      <td>9055219267083609040.1640670160.1640670160</td>\n",
       "      <td>podpiska.sberauto.com/</td>\n",
       "      <td>0</td>\n",
       "      <td>ZpYIoDJMcFzVoPFsHGJL</td>\n",
       "      <td>banner</td>\n",
       "      <td>LEoPHuyFvzoNfnzGgfcd</td>\n",
       "      <td>mobile</td>\n",
       "      <td>Russia</td>\n",
       "      <td>Moscow</td>\n",
       "      <td>NaN</td>\n",
       "      <td>NaN</td>\n",
       "      <td>NaN</td>\n",
       "      <td>NaN</td>\n",
       "      <td>NaN</td>\n",
       "      <td>NaN</td>\n",
       "    </tr>\n",
       "    <tr>\n",
       "      <th>15854244</th>\n",
       "      <td>9055237430499220580.1639607417.1639607417</td>\n",
       "      <td>podpiska.sberauto.com/</td>\n",
       "      <td>0</td>\n",
       "      <td>fDLlAcSmythWSCVMvqvL</td>\n",
       "      <td>(none)</td>\n",
       "      <td>LTuZkdKfxRGVceoWkVyg</td>\n",
       "      <td>mobile</td>\n",
       "      <td>Russia</td>\n",
       "      <td>Moscow</td>\n",
       "      <td>NaN</td>\n",
       "      <td>NaN</td>\n",
       "      <td>NaN</td>\n",
       "      <td>NaN</td>\n",
       "      <td>NaN</td>\n",
       "      <td>NaN</td>\n",
       "    </tr>\n",
       "    <tr>\n",
       "      <th>15854245</th>\n",
       "      <td>9055401700113249881.1639446112.1639446112</td>\n",
       "      <td>podpiska.sberauto.com/</td>\n",
       "      <td>0</td>\n",
       "      <td>ZpYIoDJMcFzVoPFsHGJL</td>\n",
       "      <td>banner</td>\n",
       "      <td>TmThBvoCcwkCZZUWACYq</td>\n",
       "      <td>mobile</td>\n",
       "      <td>Russia</td>\n",
       "      <td>Blagoveshchensk</td>\n",
       "      <td>NaN</td>\n",
       "      <td>NaN</td>\n",
       "      <td>NaN</td>\n",
       "      <td>NaN</td>\n",
       "      <td>NaN</td>\n",
       "      <td>NaN</td>\n",
       "    </tr>\n",
       "  </tbody>\n",
       "</table>\n",
       "<p>15854246 rows × 15 columns</p>\n",
       "</div>"
      ],
      "text/plain": [
       "                                         session_id  \\\n",
       "0         5639623078712724064.1640254056.1640254056   \n",
       "1         5639623078712724064.1640254056.1640254056   \n",
       "2         5639623078712724064.1640254056.1640254056   \n",
       "3         5639623078712724064.1640254056.1640254056   \n",
       "4         5639623078712724064.1640254056.1640254056   \n",
       "...                                             ...   \n",
       "15854241  9055129193028075829.1639938697.1639938697   \n",
       "15854242  9055187445667825414.1637582599.1637582599   \n",
       "15854243  9055219267083609040.1640670160.1640670160   \n",
       "15854244  9055237430499220580.1639607417.1639607417   \n",
       "15854245  9055401700113249881.1639446112.1639446112   \n",
       "\n",
       "                                              hit_page_path event_action  \\\n",
       "0         sberauto.com/cars?utm_source_initial=google&ut...            0   \n",
       "1         sberauto.com/cars/all/kia/seltos/20f30855?utm_...            0   \n",
       "2         sberauto.com/cars/all/volkswagen/tiguan/0208cd...            0   \n",
       "3         sberauto.com/cars/all/volkswagen/tiguan/0208cd...            0   \n",
       "4         sberauto.com/cars/all/kia/seltos/20f30855?utm_...            0   \n",
       "...                                                     ...          ...   \n",
       "15854241                             podpiska.sberauto.com/            0   \n",
       "15854242                             podpiska.sberauto.com/            0   \n",
       "15854243                             podpiska.sberauto.com/            0   \n",
       "15854244                             podpiska.sberauto.com/            0   \n",
       "15854245                             podpiska.sberauto.com/            0   \n",
       "\n",
       "                    utm_source utm_medium          utm_campaign  \\\n",
       "0         kjsLglQLzykiRbcDiGcD        cpc                 other   \n",
       "1         kjsLglQLzykiRbcDiGcD        cpc                 other   \n",
       "2         kjsLglQLzykiRbcDiGcD        cpc                 other   \n",
       "3         kjsLglQLzykiRbcDiGcD        cpc                 other   \n",
       "4         kjsLglQLzykiRbcDiGcD        cpc                 other   \n",
       "...                        ...        ...                   ...   \n",
       "15854241  kjsLglQLzykiRbcDiGcD        cpc                 other   \n",
       "15854242  QxAxdyPLuQMEcrdZWdWb        cpc  KXRJMPPRGoMIgkFfvZpk   \n",
       "15854243  ZpYIoDJMcFzVoPFsHGJL     banner  LEoPHuyFvzoNfnzGgfcd   \n",
       "15854244  fDLlAcSmythWSCVMvqvL     (none)  LTuZkdKfxRGVceoWkVyg   \n",
       "15854245  ZpYIoDJMcFzVoPFsHGJL     banner  TmThBvoCcwkCZZUWACYq   \n",
       "\n",
       "         device_category    geo_country          geo_city             0     1  \\\n",
       "0                 mobile         Russia  Saint Petersburg           NaN   NaN   \n",
       "1                 mobile         Russia  Saint Petersburg  sberauto.com  cars   \n",
       "2                 mobile         Russia  Saint Petersburg  sberauto.com  cars   \n",
       "3                 mobile         Russia  Saint Petersburg  sberauto.com  cars   \n",
       "4                 mobile         Russia  Saint Petersburg  sberauto.com  cars   \n",
       "...                  ...            ...               ...           ...   ...   \n",
       "15854241          mobile         Russia            Moscow           NaN   NaN   \n",
       "15854242          mobile  United States       Forest City           NaN   NaN   \n",
       "15854243          mobile         Russia            Moscow           NaN   NaN   \n",
       "15854244          mobile         Russia            Moscow           NaN   NaN   \n",
       "15854245          mobile         Russia   Blagoveshchensk           NaN   NaN   \n",
       "\n",
       "            2           3       4  \\\n",
       "0         NaN         NaN     NaN   \n",
       "1         all         kia  seltos   \n",
       "2         all  volkswagen  tiguan   \n",
       "3         all  volkswagen  tiguan   \n",
       "4         all         kia  seltos   \n",
       "...       ...         ...     ...   \n",
       "15854241  NaN         NaN     NaN   \n",
       "15854242  NaN         NaN     NaN   \n",
       "15854243  NaN         NaN     NaN   \n",
       "15854244  NaN         NaN     NaN   \n",
       "15854245  NaN         NaN     NaN   \n",
       "\n",
       "                                                          5  \n",
       "0                                                       NaN  \n",
       "1         20f30855?utm_source_initial=google&utm_medium_...  \n",
       "2         0208cd2b?utm_source_initial=google&utm_medium_...  \n",
       "3         0208cd2b?utm_source_initial=google&utm_medium_...  \n",
       "4         20f30855?utm_source_initial=google&utm_medium_...  \n",
       "...                                                     ...  \n",
       "15854241                                                NaN  \n",
       "15854242                                                NaN  \n",
       "15854243                                                NaN  \n",
       "15854244                                                NaN  \n",
       "15854245                                                NaN  \n",
       "\n",
       "[15854246 rows x 15 columns]"
      ]
     },
     "execution_count": 31,
     "metadata": {},
     "output_type": "execute_result"
    }
   ],
   "source": [
    "df = pd.merge(left = df, right = df_expand, left_index = True, right_index = True, how = 'outer')\n",
    "df"
   ]
  },
  {
   "cell_type": "markdown",
   "id": "7bb6b64a-7f40-4fca-bd47-e89f79cb35e5",
   "metadata": {},
   "source": [
    "Объединим бренд и модель в единиую колонку с моделью автомобиля"
   ]
  },
  {
   "cell_type": "code",
   "execution_count": 32,
   "id": "860ee91f-cd19-4605-af15-2d2b82fe3aea",
   "metadata": {
    "tags": []
   },
   "outputs": [],
   "source": [
    "df['car_model'] = df[3] + ' ' + df[4]"
   ]
  },
  {
   "cell_type": "markdown",
   "id": "8382e77e-6b22-4d75-92d7-f4586b3d8ae7",
   "metadata": {},
   "source": [
    "Удалим все лишние колонки"
   ]
  },
  {
   "cell_type": "code",
   "execution_count": 34,
   "id": "41482ba5-5416-42c7-a272-61f11eb8471e",
   "metadata": {
    "tags": []
   },
   "outputs": [],
   "source": [
    "df = df.drop(columns=[0,1,2,3,4,5, 'hit_page_path'], axis = 1)"
   ]
  },
  {
   "cell_type": "markdown",
   "id": "85ac6063-39f8-4ce4-b14c-3316ec0c655f",
   "metadata": {},
   "source": [
    "Заполним пропущенные значения модели авто как 'other'"
   ]
  },
  {
   "cell_type": "code",
   "execution_count": 38,
   "id": "0647cdb3-07c9-4471-9fa5-81a77adfaa96",
   "metadata": {
    "tags": []
   },
   "outputs": [],
   "source": [
    "df['car_model'] = df['car_model'].fillna('other')"
   ]
  },
  {
   "cell_type": "markdown",
   "id": "00fba343-288a-4415-8c87-a60cff0c8691",
   "metadata": {},
   "source": [
    "Проверяем заполнение:"
   ]
  },
  {
   "cell_type": "code",
   "execution_count": 39,
   "id": "9b0d4b30-dcae-4615-9dab-be3f7291ca06",
   "metadata": {},
   "outputs": [
    {
     "data": {
      "text/plain": [
       "session_id         0.0\n",
       "event_action       0.0\n",
       "utm_source         0.0\n",
       "utm_medium         0.0\n",
       "utm_campaign       0.0\n",
       "device_category    0.0\n",
       "geo_country        0.0\n",
       "geo_city           0.0\n",
       "car_model          0.0\n",
       "dtype: float64"
      ]
     },
     "execution_count": 39,
     "metadata": {},
     "output_type": "execute_result"
    }
   ],
   "source": [
    "df.isna().sum() / len(df)"
   ]
  },
  {
   "cell_type": "markdown",
   "id": "fade0e1a-e32f-4263-a4b1-41dbb100af0f",
   "metadata": {},
   "source": [
    "В столбце geo_city сделаем замену: 1 - Москва и область, 2 - Санкт-Петербург, 3 - регионы России, 4 - зарубежные города, 5 - неизвестно, "
   ]
  },
  {
   "cell_type": "code",
   "execution_count": 40,
   "id": "5dd48c59-6595-4b2c-9760-132c17c54e38",
   "metadata": {
    "tags": []
   },
   "outputs": [
    {
     "data": {
      "text/plain": [
       "Moscow              6890770\n",
       "Saint Petersburg    2383906\n",
       "(not set)            601154\n",
       "Yekaterinburg        330534\n",
       "Krasnodar            295484\n",
       "                     ...   \n",
       "Plock                     1\n",
       "Appenweier                1\n",
       "Netphen                   1\n",
       "Sunne                     1\n",
       "Wonju-si                  1\n",
       "Name: geo_city, Length: 2548, dtype: int64"
      ]
     },
     "execution_count": 40,
     "metadata": {},
     "output_type": "execute_result"
    }
   ],
   "source": [
    "df.geo_city.value_counts()"
   ]
  },
  {
   "cell_type": "code",
   "execution_count": 41,
   "id": "59bb2ec6-df59-4e6c-b85d-656b99cb7a88",
   "metadata": {
    "tags": []
   },
   "outputs": [],
   "source": [
    "df['geo_city'] = df['geo_city'].replace(['Moscow', 'Saint Petersburg', '(not set)'], [1,2,5])"
   ]
  },
  {
   "cell_type": "code",
   "execution_count": 42,
   "id": "3ceeccff-1d0d-4f6d-9330-8985a9879527",
   "metadata": {
    "tags": []
   },
   "outputs": [],
   "source": [
    "df.loc[((df['geo_country'] == 'Russia') & (df['geo_city'] != 1) & (df['geo_city'] != 2) & (df['geo_city'] != 5)), 'geo_city'] = 3"
   ]
  },
  {
   "cell_type": "code",
   "execution_count": 43,
   "id": "51a5865d-c11d-44c6-ae9b-d2cfdc552674",
   "metadata": {
    "tags": []
   },
   "outputs": [],
   "source": [
    "df.loc[(df['geo_country'] != 'Russia'), 'geo_city'] = 4"
   ]
  },
  {
   "cell_type": "markdown",
   "id": "96d4d95d-6f9d-460e-a0b8-62978ede95d1",
   "metadata": {
    "jp-MarkdownHeadingCollapsed": true,
    "tags": []
   },
   "source": [
    "## Приведение типов"
   ]
  },
  {
   "cell_type": "code",
   "execution_count": 45,
   "id": "4fd71ab2-79fc-46c6-a10d-31954cbeabe0",
   "metadata": {
    "tags": []
   },
   "outputs": [
    {
     "data": {
      "text/plain": [
       "session_id         object\n",
       "event_action       object\n",
       "utm_source         object\n",
       "utm_medium         object\n",
       "utm_campaign       object\n",
       "device_category    object\n",
       "geo_country        object\n",
       "geo_city           object\n",
       "car_model          object\n",
       "dtype: object"
      ]
     },
     "execution_count": 45,
     "metadata": {},
     "output_type": "execute_result"
    }
   ],
   "source": [
    "df.dtypes"
   ]
  },
  {
   "cell_type": "markdown",
   "id": "a6a75f57-3bd4-4410-8fa9-00b80710ecf6",
   "metadata": {},
   "source": [
    "Заменим колонку geo_city на целочисленный тип"
   ]
  },
  {
   "cell_type": "code",
   "execution_count": 46,
   "id": "b8da54ae-f6b5-4549-a222-1433c9deb779",
   "metadata": {
    "tags": []
   },
   "outputs": [],
   "source": [
    "df['geo_city'] = df['geo_city'].astype('int64')"
   ]
  },
  {
   "cell_type": "code",
   "execution_count": 47,
   "id": "704fec32-2443-4156-a411-42fbeeb631e9",
   "metadata": {
    "tags": []
   },
   "outputs": [
    {
     "data": {
      "text/plain": [
       "session_id         object\n",
       "event_action       object\n",
       "utm_source         object\n",
       "utm_medium         object\n",
       "utm_campaign       object\n",
       "device_category    object\n",
       "geo_country        object\n",
       "geo_city            int64\n",
       "car_model          object\n",
       "dtype: object"
      ]
     },
     "execution_count": 47,
     "metadata": {},
     "output_type": "execute_result"
    }
   ],
   "source": [
    "df.dtypes"
   ]
  },
  {
   "cell_type": "markdown",
   "id": "b2ba78ed-c363-41e0-a85b-895cc0113d35",
   "metadata": {},
   "source": [
    "Сохраняем финальный датафрейм"
   ]
  },
  {
   "cell_type": "code",
   "execution_count": 48,
   "id": "07692002-d447-4813-abb6-e34d1f9b3c0b",
   "metadata": {
    "tags": []
   },
   "outputs": [],
   "source": [
    "df.to_csv('df.csv', index=False)"
   ]
  },
  {
   "cell_type": "markdown",
   "id": "c75e997b-e532-476f-adee-b41530649f45",
   "metadata": {
    "jp-MarkdownHeadingCollapsed": true,
    "tags": []
   },
   "source": [
    "## Проверка гипотез"
   ]
  },
  {
   "cell_type": "code",
   "execution_count": 49,
   "id": "9168a38f-a65a-4a4b-ac24-6834e112d795",
   "metadata": {},
   "outputs": [
    {
     "data": {
      "text/html": [
       "<div>\n",
       "<style scoped>\n",
       "    .dataframe tbody tr th:only-of-type {\n",
       "        vertical-align: middle;\n",
       "    }\n",
       "\n",
       "    .dataframe tbody tr th {\n",
       "        vertical-align: top;\n",
       "    }\n",
       "\n",
       "    .dataframe thead th {\n",
       "        text-align: right;\n",
       "    }\n",
       "</style>\n",
       "<table border=\"1\" class=\"dataframe\">\n",
       "  <thead>\n",
       "    <tr style=\"text-align: right;\">\n",
       "      <th></th>\n",
       "      <th>session_id</th>\n",
       "      <th>event_action</th>\n",
       "      <th>utm_source</th>\n",
       "      <th>utm_medium</th>\n",
       "      <th>utm_campaign</th>\n",
       "      <th>device_category</th>\n",
       "      <th>geo_country</th>\n",
       "      <th>geo_city</th>\n",
       "      <th>car_model</th>\n",
       "    </tr>\n",
       "  </thead>\n",
       "  <tbody>\n",
       "    <tr>\n",
       "      <th>0</th>\n",
       "      <td>5639623078712724064.1640254056.1640254056</td>\n",
       "      <td>0</td>\n",
       "      <td>kjsLglQLzykiRbcDiGcD</td>\n",
       "      <td>cpc</td>\n",
       "      <td>other</td>\n",
       "      <td>mobile</td>\n",
       "      <td>Russia</td>\n",
       "      <td>2</td>\n",
       "      <td>other</td>\n",
       "    </tr>\n",
       "    <tr>\n",
       "      <th>1</th>\n",
       "      <td>5639623078712724064.1640254056.1640254056</td>\n",
       "      <td>0</td>\n",
       "      <td>kjsLglQLzykiRbcDiGcD</td>\n",
       "      <td>cpc</td>\n",
       "      <td>other</td>\n",
       "      <td>mobile</td>\n",
       "      <td>Russia</td>\n",
       "      <td>2</td>\n",
       "      <td>kia seltos</td>\n",
       "    </tr>\n",
       "    <tr>\n",
       "      <th>2</th>\n",
       "      <td>5639623078712724064.1640254056.1640254056</td>\n",
       "      <td>0</td>\n",
       "      <td>kjsLglQLzykiRbcDiGcD</td>\n",
       "      <td>cpc</td>\n",
       "      <td>other</td>\n",
       "      <td>mobile</td>\n",
       "      <td>Russia</td>\n",
       "      <td>2</td>\n",
       "      <td>volkswagen tiguan</td>\n",
       "    </tr>\n",
       "    <tr>\n",
       "      <th>3</th>\n",
       "      <td>5639623078712724064.1640254056.1640254056</td>\n",
       "      <td>0</td>\n",
       "      <td>kjsLglQLzykiRbcDiGcD</td>\n",
       "      <td>cpc</td>\n",
       "      <td>other</td>\n",
       "      <td>mobile</td>\n",
       "      <td>Russia</td>\n",
       "      <td>2</td>\n",
       "      <td>volkswagen tiguan</td>\n",
       "    </tr>\n",
       "    <tr>\n",
       "      <th>4</th>\n",
       "      <td>5639623078712724064.1640254056.1640254056</td>\n",
       "      <td>0</td>\n",
       "      <td>kjsLglQLzykiRbcDiGcD</td>\n",
       "      <td>cpc</td>\n",
       "      <td>other</td>\n",
       "      <td>mobile</td>\n",
       "      <td>Russia</td>\n",
       "      <td>2</td>\n",
       "      <td>kia seltos</td>\n",
       "    </tr>\n",
       "  </tbody>\n",
       "</table>\n",
       "</div>"
      ],
      "text/plain": [
       "                                  session_id event_action  \\\n",
       "0  5639623078712724064.1640254056.1640254056            0   \n",
       "1  5639623078712724064.1640254056.1640254056            0   \n",
       "2  5639623078712724064.1640254056.1640254056            0   \n",
       "3  5639623078712724064.1640254056.1640254056            0   \n",
       "4  5639623078712724064.1640254056.1640254056            0   \n",
       "\n",
       "             utm_source utm_medium utm_campaign device_category geo_country  \\\n",
       "0  kjsLglQLzykiRbcDiGcD        cpc        other          mobile      Russia   \n",
       "1  kjsLglQLzykiRbcDiGcD        cpc        other          mobile      Russia   \n",
       "2  kjsLglQLzykiRbcDiGcD        cpc        other          mobile      Russia   \n",
       "3  kjsLglQLzykiRbcDiGcD        cpc        other          mobile      Russia   \n",
       "4  kjsLglQLzykiRbcDiGcD        cpc        other          mobile      Russia   \n",
       "\n",
       "   geo_city          car_model  \n",
       "0         2              other  \n",
       "1         2         kia seltos  \n",
       "2         2  volkswagen tiguan  \n",
       "3         2  volkswagen tiguan  \n",
       "4         2         kia seltos  "
      ]
     },
     "execution_count": 49,
     "metadata": {},
     "output_type": "execute_result"
    }
   ],
   "source": [
    "df.head()"
   ]
  },
  {
   "cell_type": "markdown",
   "id": "936f2e6c-881f-43f3-a6f5-36a7df6f8d92",
   "metadata": {
    "tags": []
   },
   "source": [
    "### Гипотеза 1: Органический трафик не отличается от платного с точки зрения CR (Conversion Rate) в целевые события"
   ]
  },
  {
   "cell_type": "markdown",
   "id": "aba228a6-b505-4b71-a6ce-9b2bf438c38a",
   "metadata": {},
   "source": [
    "H0: Органический трафик не отличается от платного с точки зрения CR (Conversion Rate) в целевые события\n",
    "\n",
    "т.е. P(органический трафик) = P(платный трафик)\n",
    "\n",
    "Ha: Органический трафик больше платного с точки зрения CR (Conversion Rate) в целевые события\n",
    "\n",
    "P(органический трафик) > P(платный трафик)\n",
    "\n",
    "P - доля"
   ]
  },
  {
   "cell_type": "markdown",
   "id": "67ea9c9c-8f8d-4014-a8f6-99557490fba5",
   "metadata": {},
   "source": [
    "Органический трафик с целевым событием"
   ]
  },
  {
   "cell_type": "code",
   "execution_count": 51,
   "id": "1b7e2701-e9fd-4126-b12a-019889e666a8",
   "metadata": {
    "tags": []
   },
   "outputs": [],
   "source": [
    "org = df[((df.utm_medium == 'organic') | (df.utm_medium == 'referral') | (df.utm_medium == '(none)')) & df.event_action == 1]"
   ]
  },
  {
   "cell_type": "markdown",
   "id": "62f195bd-fede-4a64-a8c1-e547b372606d",
   "metadata": {},
   "source": [
    "Весь органический трафик"
   ]
  },
  {
   "cell_type": "code",
   "execution_count": 52,
   "id": "e05ac870-9f4d-4d38-9d29-eaf5dc665d63",
   "metadata": {},
   "outputs": [],
   "source": [
    "org_full = df[(df.utm_medium == 'organic') | (df.utm_medium == 'referral') | (df.utm_medium == '(none)')]"
   ]
  },
  {
   "cell_type": "markdown",
   "id": "e2b398a9-5f75-435a-8ae4-49ef434dd4d8",
   "metadata": {},
   "source": [
    "Платный трафик с целевым событием"
   ]
  },
  {
   "cell_type": "code",
   "execution_count": 53,
   "id": "a7407eab-e5be-4202-a26f-1ae24cd24d8f",
   "metadata": {},
   "outputs": [],
   "source": [
    "paid = df[((df.utm_medium != 'organic') | (df.utm_medium != 'referral') | (df.utm_medium != '(none)')) & df.event_action == 1]"
   ]
  },
  {
   "cell_type": "markdown",
   "id": "82f95883-f8d6-44ba-bedb-cb06c2cc60e4",
   "metadata": {
    "tags": []
   },
   "source": [
    "Весь платный трафик"
   ]
  },
  {
   "cell_type": "code",
   "execution_count": 54,
   "id": "72761c6b-50af-4187-adc7-a92a0f6c8bab",
   "metadata": {},
   "outputs": [],
   "source": [
    "paid_full = df[(df.utm_medium != 'organic') | (df.utm_medium!= 'referral') | (df.utm_medium != '(none)')]"
   ]
  },
  {
   "cell_type": "code",
   "execution_count": 59,
   "id": "439a0fe1-cf14-43f3-9521-4922eaeef1a0",
   "metadata": {},
   "outputs": [
    {
     "data": {
      "text/html": [
       "<div>\n",
       "<style scoped>\n",
       "    .dataframe tbody tr th:only-of-type {\n",
       "        vertical-align: middle;\n",
       "    }\n",
       "\n",
       "    .dataframe tbody tr th {\n",
       "        vertical-align: top;\n",
       "    }\n",
       "\n",
       "    .dataframe thead th {\n",
       "        text-align: right;\n",
       "    }\n",
       "</style>\n",
       "<table border=\"1\" class=\"dataframe\">\n",
       "  <thead>\n",
       "    <tr style=\"text-align: right;\">\n",
       "      <th></th>\n",
       "      <th>target</th>\n",
       "      <th>full</th>\n",
       "      <th>CR %</th>\n",
       "    </tr>\n",
       "  </thead>\n",
       "  <tbody>\n",
       "    <tr>\n",
       "      <th>organic</th>\n",
       "      <td>41672</td>\n",
       "      <td>5864306</td>\n",
       "      <td>0.710604</td>\n",
       "    </tr>\n",
       "    <tr>\n",
       "      <th>paid</th>\n",
       "      <td>104908</td>\n",
       "      <td>15854246</td>\n",
       "      <td>0.661703</td>\n",
       "    </tr>\n",
       "  </tbody>\n",
       "</table>\n",
       "</div>"
      ],
      "text/plain": [
       "         target      full      CR %\n",
       "organic   41672   5864306  0.710604\n",
       "paid     104908  15854246  0.661703"
      ]
     },
     "execution_count": 59,
     "metadata": {},
     "output_type": "execute_result"
    }
   ],
   "source": [
    "hip1 = pd.DataFrame({'target': [len(org), len(paid)], 'full': [len(org_full), len(paid_full)], \n",
    "                     'CR %': [len(org)*100/len(org_full), len(paid)*100/len(paid_full)]}, \n",
    "                    index = ['organic', 'paid'])\n",
    "hip1"
   ]
  },
  {
   "cell_type": "markdown",
   "id": "6bff4eac-4d4f-4ba5-ae84-0d66dc7b4488",
   "metadata": {},
   "source": [
    "В нашем случае мы работаем с гипотезой о доле - что доля с целевой переменной для огранического траффика равна доле с целевой переменной для платного траффика. Применим биномиальный критерии для серии наблюдений. Критическая область справа"
   ]
  },
  {
   "cell_type": "code",
   "execution_count": 68,
   "id": "81ffde60-674c-44d5-874d-d2d28ede8fdc",
   "metadata": {},
   "outputs": [
    {
     "name": "stdout",
     "output_type": "stream",
     "text": [
      "statistics:  12.357603526458526 p-value:  0.0\n"
     ]
    }
   ],
   "source": [
    "m1 = hip1['target'][0]\n",
    "m2 = hip1['target'][1]\n",
    "n1 = hip1['full'][0]\n",
    "n2 = hip1['full'][1]\n",
    "T = (m1/n1 - m2/n2)/math.sqrt(((m1+m2)/(n1+n2))*(1 - ((m1+m2)/(n1+n2)))*(1/n1 + 1/n2))\n",
    "P_right = 1 - stats.norm.cdf(T)\n",
    "\n",
    "print('statistics: ', T, 'p-value: ', P_right)"
   ]
  },
  {
   "cell_type": "markdown",
   "id": "1ca6b069-2b45-4273-83eb-e59728e30494",
   "metadata": {},
   "source": [
    "p-value практически равно 0, значит на уровне значимости 0,05 мы отвергаем нулевую гипотезу в пользу альтернативной, т.е. конверсия в целевую переменную с органического траффика больше конверсии в целевую переменную с платного траффика"
   ]
  },
  {
   "cell_type": "markdown",
   "id": "6880de21-0c3a-45f4-ac99-f4579d841b20",
   "metadata": {
    "jp-MarkdownHeadingCollapsed": true,
    "tags": []
   },
   "source": [
    "### Гипотеза 2: Трафик с мобильных устройств не отличается от трафика с десктопных устройств с точки зрения CR (Conversion Rate) в целевые события"
   ]
  },
  {
   "cell_type": "markdown",
   "id": "be7e611b-867b-4a01-b824-c258388fbe52",
   "metadata": {},
   "source": [
    "H0: Трафик с мобильных устройств не отличается от трафика с десктопных устройств с точки зрения CR в целевые события\n",
    "\n",
    "т.е. P(mobile) = P(desktop)\n",
    "\n",
    "Ha: Трафик с мобильных устройств больше трафика с десктопных устройств с точки зрения CR в целевые события\n",
    "\n",
    "P(mobile) > P(desktop)\n",
    "\n",
    "P - доля"
   ]
  },
  {
   "cell_type": "markdown",
   "id": "6e269042-45a4-4cbf-b8c2-3300606afc51",
   "metadata": {},
   "source": [
    "Мобильный трафик с целевым событием"
   ]
  },
  {
   "cell_type": "code",
   "execution_count": 61,
   "id": "144e931c-7513-4298-a079-0960f75fcf00",
   "metadata": {
    "tags": []
   },
   "outputs": [],
   "source": [
    "mobile = df[(df.device_category == 'mobile') & (df.event_action == 1)]"
   ]
  },
  {
   "cell_type": "markdown",
   "id": "f5151af6-c678-4f62-a62f-ee70dea0c959",
   "metadata": {},
   "source": [
    "Весь мобильный трафик"
   ]
  },
  {
   "cell_type": "code",
   "execution_count": 62,
   "id": "44f93c82-c0a4-4fdb-8512-5bd746e148f2",
   "metadata": {
    "tags": []
   },
   "outputs": [],
   "source": [
    "mobile_full = df[df.device_category == 'mobile']"
   ]
  },
  {
   "cell_type": "markdown",
   "id": "45223fb7-88bf-4d51-b99d-86cf0eafdbae",
   "metadata": {},
   "source": [
    "Десктопный трафик с целевым событием"
   ]
  },
  {
   "cell_type": "code",
   "execution_count": 63,
   "id": "ca2941b0-6fa2-4a32-9158-3f01aec877b3",
   "metadata": {
    "tags": []
   },
   "outputs": [],
   "source": [
    "desktop = df[(df.device_category == 'desktop') & (df.event_action == 1)]"
   ]
  },
  {
   "cell_type": "markdown",
   "id": "b908a43f-49be-40a0-9051-86a98ea4f9fc",
   "metadata": {},
   "source": [
    "Весь десктопный трафик"
   ]
  },
  {
   "cell_type": "code",
   "execution_count": 64,
   "id": "9d06d7dc-162b-44c2-9fdf-20700f0c43fe",
   "metadata": {
    "tags": []
   },
   "outputs": [],
   "source": [
    "desktop_full = df[df.device_category == 'desktop']"
   ]
  },
  {
   "cell_type": "code",
   "execution_count": 66,
   "id": "feff02d9-ba94-45aa-99db-9ee06070231b",
   "metadata": {
    "tags": []
   },
   "outputs": [
    {
     "data": {
      "text/html": [
       "<div>\n",
       "<style scoped>\n",
       "    .dataframe tbody tr th:only-of-type {\n",
       "        vertical-align: middle;\n",
       "    }\n",
       "\n",
       "    .dataframe tbody tr th {\n",
       "        vertical-align: top;\n",
       "    }\n",
       "\n",
       "    .dataframe thead th {\n",
       "        text-align: right;\n",
       "    }\n",
       "</style>\n",
       "<table border=\"1\" class=\"dataframe\">\n",
       "  <thead>\n",
       "    <tr style=\"text-align: right;\">\n",
       "      <th></th>\n",
       "      <th>target</th>\n",
       "      <th>full</th>\n",
       "      <th>CR %</th>\n",
       "    </tr>\n",
       "  </thead>\n",
       "  <tbody>\n",
       "    <tr>\n",
       "      <th>mobile</th>\n",
       "      <td>78900</td>\n",
       "      <td>11742984</td>\n",
       "      <td>0.671891</td>\n",
       "    </tr>\n",
       "    <tr>\n",
       "      <th>desktop</th>\n",
       "      <td>25243</td>\n",
       "      <td>3965226</td>\n",
       "      <td>0.636609</td>\n",
       "    </tr>\n",
       "  </tbody>\n",
       "</table>\n",
       "</div>"
      ],
      "text/plain": [
       "         target      full      CR %\n",
       "mobile    78900  11742984  0.671891\n",
       "desktop   25243   3965226  0.636609"
      ]
     },
     "execution_count": 66,
     "metadata": {},
     "output_type": "execute_result"
    }
   ],
   "source": [
    "hip2 = pd.DataFrame({'target': [len(mobile), len(desktop)], \n",
    "                     'full': [len(mobile_full), len(desktop_full)], \n",
    "                     'CR %': [len(mobile)*100/len(mobile_full), len(desktop)*100/len(desktop_full)]},\n",
    "                   index = ['mobile', 'desktop'])\n",
    "hip2"
   ]
  },
  {
   "cell_type": "markdown",
   "id": "a491da69-3c86-455b-a023-b10b6ed7f440",
   "metadata": {},
   "source": [
    "В нашем случае мы работаем с гипотезой о доле - что доля с целевой переменной для мобильных устройств равна доле с целевой переменной для десктопных устройств. Применим биномиальный критерии для серии наблюдений. Критическая область справа"
   ]
  },
  {
   "cell_type": "code",
   "execution_count": 69,
   "id": "1e1b6497-70f2-454f-a787-370e07a359c5",
   "metadata": {
    "tags": []
   },
   "outputs": [
    {
     "name": "stdout",
     "output_type": "stream",
     "text": [
      "statistics:  7.485069132030752 p-value:  3.574918139293004e-14\n"
     ]
    }
   ],
   "source": [
    "m1 = hip2['target'][0]\n",
    "m2 = hip2['target'][1]\n",
    "n1 = hip2['full'][0]\n",
    "n2 = hip2['full'][1]\n",
    "T = (m1/n1 - m2/n2)/math.sqrt(((m1+m2)/(n1+n2))*(1 - ((m1+m2)/(n1+n2)))*(1/n1 + 1/n2))\n",
    "P_right = 1 - stats.norm.cdf(T)\n",
    "\n",
    "print('statistics: ', T, 'p-value: ', P_right)"
   ]
  },
  {
   "cell_type": "markdown",
   "id": "6bb6e37d-b07f-47a2-bf8d-4d4e351c9265",
   "metadata": {},
   "source": [
    "p-value практически равно 0, значит на уровне значимости 0,05 мы отвергаем нулевую гипотезу в пользу альтернативной. То есть, конверсия в целевую переменную с мобильных устройств больше конверсии в целевую переменную с десктопных устройств"
   ]
  },
  {
   "cell_type": "markdown",
   "id": "33cf959f-d6f0-472e-9b93-f341d709aa56",
   "metadata": {
    "jp-MarkdownHeadingCollapsed": true,
    "tags": []
   },
   "source": [
    "### Гипотеза 3: Трафик из городов присутствия (Москва и область, Санкт-Петербург) не отличается от трафика из иных регионов с точки зрения CR (Conversion Rate) в целевые события"
   ]
  },
  {
   "cell_type": "markdown",
   "id": "d1cc94e8-70fc-4260-b27d-86365db533ca",
   "metadata": {
    "tags": []
   },
   "source": [
    "H0: Трафик из городов присутствия (Москва и область, Санкт-Петербург) не отличается от трафика из иных регионов с точки зрения CR в целевые события\n",
    "\n",
    "т.е. P(m_s) = P(other_rf)\n",
    "\n",
    "Ha: Трафик из городов присутствия (Москва и область, Санкт-Петербург) больше трафика из иных регионов с точки зрения CR в целевые события\n",
    "\n",
    "P(m_s) > P(other_rf)\n",
    "\n",
    "P - доля"
   ]
  },
  {
   "cell_type": "markdown",
   "id": "7cf6bc1a-70e6-4675-81ff-7f6eb924be5a",
   "metadata": {},
   "source": [
    "Трафик из Москвы + СПб в целевые события"
   ]
  },
  {
   "cell_type": "code",
   "execution_count": 70,
   "id": "e43c89b7-6c0f-4f1b-9023-bd54df45f2b3",
   "metadata": {
    "tags": []
   },
   "outputs": [],
   "source": [
    "m_s = df[((df.geo_city == 1) | (df.geo_city == 2))& (df.event_action == 1)]"
   ]
  },
  {
   "cell_type": "markdown",
   "id": "868679c8-63f1-4938-b840-ea90bd5aaa57",
   "metadata": {},
   "source": [
    "Весь трафик из Москвы + СПб"
   ]
  },
  {
   "cell_type": "code",
   "execution_count": 71,
   "id": "de85909c-4226-4510-baf7-37ae3119b603",
   "metadata": {
    "tags": []
   },
   "outputs": [],
   "source": [
    "m_s_full = df[(df.geo_city == 1) | (df.geo_city == 2)]"
   ]
  },
  {
   "cell_type": "markdown",
   "id": "5cb4ffe1-878b-4c91-a712-b5dc0d312723",
   "metadata": {},
   "source": [
    "Трафик из регионов России с целевым событием"
   ]
  },
  {
   "cell_type": "code",
   "execution_count": 72,
   "id": "4e2697e1-4b7d-4b53-aa50-c8e0dd1e9c12",
   "metadata": {
    "tags": []
   },
   "outputs": [],
   "source": [
    "other_rf = df[(df.geo_city == 3) & (df.event_action == 1)]"
   ]
  },
  {
   "cell_type": "markdown",
   "id": "501896d9-4162-4779-b33a-5238530ceceb",
   "metadata": {},
   "source": [
    "Весь трафик из Москвы и СПб"
   ]
  },
  {
   "cell_type": "code",
   "execution_count": 73,
   "id": "38fad7dd-4f06-43af-a425-40d5f1d6d81b",
   "metadata": {
    "tags": []
   },
   "outputs": [],
   "source": [
    "other_rf_full = df[df.geo_city == 3]"
   ]
  },
  {
   "cell_type": "code",
   "execution_count": 74,
   "id": "2c94fa66-5267-4539-b4cc-2d612580f544",
   "metadata": {
    "tags": []
   },
   "outputs": [
    {
     "data": {
      "text/html": [
       "<div>\n",
       "<style scoped>\n",
       "    .dataframe tbody tr th:only-of-type {\n",
       "        vertical-align: middle;\n",
       "    }\n",
       "\n",
       "    .dataframe tbody tr th {\n",
       "        vertical-align: top;\n",
       "    }\n",
       "\n",
       "    .dataframe thead th {\n",
       "        text-align: right;\n",
       "    }\n",
       "</style>\n",
       "<table border=\"1\" class=\"dataframe\">\n",
       "  <thead>\n",
       "    <tr style=\"text-align: right;\">\n",
       "      <th></th>\n",
       "      <th>target</th>\n",
       "      <th>full</th>\n",
       "      <th>CR %</th>\n",
       "    </tr>\n",
       "  </thead>\n",
       "  <tbody>\n",
       "    <tr>\n",
       "      <th>Moscow and SPb</th>\n",
       "      <td>67051</td>\n",
       "      <td>9274676</td>\n",
       "      <td>0.722947</td>\n",
       "    </tr>\n",
       "    <tr>\n",
       "      <th>other in RF</th>\n",
       "      <td>33335</td>\n",
       "      <td>5632535</td>\n",
       "      <td>0.591829</td>\n",
       "    </tr>\n",
       "  </tbody>\n",
       "</table>\n",
       "</div>"
      ],
      "text/plain": [
       "                target     full      CR %\n",
       "Moscow and SPb   67051  9274676  0.722947\n",
       "other in RF      33335  5632535  0.591829"
      ]
     },
     "execution_count": 74,
     "metadata": {},
     "output_type": "execute_result"
    }
   ],
   "source": [
    "hip3 = pd.DataFrame({'target': [len(m_s), len(other_rf)], \n",
    "                     'full': [len(m_s_full), len(other_rf_full)], \n",
    "                     'CR %': [len(m_s)*100/len(m_s_full), len(other_rf)*100/len(other_rf_full)]}, \n",
    "                   index = ['Moscow and SPb', 'other in RF'])\n",
    "hip3"
   ]
  },
  {
   "cell_type": "markdown",
   "id": "11504b5c-38e1-42d6-9766-1a31724ed1d5",
   "metadata": {},
   "source": [
    "В нашем случае мы работаем с гипотезой о доле - что доля с целевой переменной для Москвы и СПб равна доле с целевой переменной для других регионов РФ. Применим биномиальный критерии для серии наблюдений. Критическая область справа"
   ]
  },
  {
   "cell_type": "code",
   "execution_count": 75,
   "id": "11640029-1033-4dd8-a2a3-6a63eedc3fa7",
   "metadata": {
    "tags": []
   },
   "outputs": [
    {
     "name": "stdout",
     "output_type": "stream",
     "text": [
      "statistics:  30.011876054342736 p-value:  0.0\n"
     ]
    }
   ],
   "source": [
    "m1 = hip3['target'][0]\n",
    "m2 = hip3['target'][1]\n",
    "n1 = hip3['full'][0]\n",
    "n2 = hip3['full'][1]\n",
    "T = (m1/n1 - m2/n2)/math.sqrt(((m1+m2)/(n1+n2))*(1 - ((m1+m2)/(n1+n2)))*(1/n1 + 1/n2))\n",
    "P_right = 1 - stats.norm.cdf(T)\n",
    "\n",
    "print('statistics: ', T, 'p-value: ', P_right)"
   ]
  },
  {
   "cell_type": "markdown",
   "id": "ee45af62-0fc3-4872-96bb-32133aa544a6",
   "metadata": {},
   "source": [
    "P-value меньше 0,05 "
   ]
  },
  {
   "cell_type": "markdown",
   "id": "d9e642b7-8057-4a5a-a691-3a6ec0697cff",
   "metadata": {},
   "source": [
    "Тогда, на любом вменяемом уровне значимости можно принять альтернативную гипотезу, о том, что конверсия в целевую переменную из Москвы и СПб больше конверсии в целевую переменную из других регионов России"
   ]
  },
  {
   "cell_type": "markdown",
   "id": "07f2a0f4-5176-49ff-a905-93ad50a91d64",
   "metadata": {
    "jp-MarkdownHeadingCollapsed": true,
    "tags": []
   },
   "source": [
    "## Ответы на вопросы продуктовой команды"
   ]
  },
  {
   "cell_type": "code",
   "execution_count": 8,
   "id": "5244ff1b-b9ee-4d90-aad2-921946e47447",
   "metadata": {
    "tags": []
   },
   "outputs": [
    {
     "data": {
      "text/html": [
       "<div>\n",
       "<style scoped>\n",
       "    .dataframe tbody tr th:only-of-type {\n",
       "        vertical-align: middle;\n",
       "    }\n",
       "\n",
       "    .dataframe tbody tr th {\n",
       "        vertical-align: top;\n",
       "    }\n",
       "\n",
       "    .dataframe thead th {\n",
       "        text-align: right;\n",
       "    }\n",
       "</style>\n",
       "<table border=\"1\" class=\"dataframe\">\n",
       "  <thead>\n",
       "    <tr style=\"text-align: right;\">\n",
       "      <th></th>\n",
       "      <th>session_id</th>\n",
       "      <th>event_action</th>\n",
       "      <th>utm_source</th>\n",
       "      <th>utm_medium</th>\n",
       "      <th>utm_campaign</th>\n",
       "      <th>device_category</th>\n",
       "      <th>geo_country</th>\n",
       "      <th>geo_city</th>\n",
       "      <th>car_model</th>\n",
       "    </tr>\n",
       "  </thead>\n",
       "  <tbody>\n",
       "    <tr>\n",
       "      <th>0</th>\n",
       "      <td>5639623078712724064.1640254056.1640254056</td>\n",
       "      <td>0</td>\n",
       "      <td>kjsLglQLzykiRbcDiGcD</td>\n",
       "      <td>cpc</td>\n",
       "      <td>other</td>\n",
       "      <td>mobile</td>\n",
       "      <td>Russia</td>\n",
       "      <td>2</td>\n",
       "      <td>other</td>\n",
       "    </tr>\n",
       "    <tr>\n",
       "      <th>1</th>\n",
       "      <td>5639623078712724064.1640254056.1640254056</td>\n",
       "      <td>0</td>\n",
       "      <td>kjsLglQLzykiRbcDiGcD</td>\n",
       "      <td>cpc</td>\n",
       "      <td>other</td>\n",
       "      <td>mobile</td>\n",
       "      <td>Russia</td>\n",
       "      <td>2</td>\n",
       "      <td>kia seltos</td>\n",
       "    </tr>\n",
       "    <tr>\n",
       "      <th>2</th>\n",
       "      <td>5639623078712724064.1640254056.1640254056</td>\n",
       "      <td>0</td>\n",
       "      <td>kjsLglQLzykiRbcDiGcD</td>\n",
       "      <td>cpc</td>\n",
       "      <td>other</td>\n",
       "      <td>mobile</td>\n",
       "      <td>Russia</td>\n",
       "      <td>2</td>\n",
       "      <td>volkswagen tiguan</td>\n",
       "    </tr>\n",
       "    <tr>\n",
       "      <th>3</th>\n",
       "      <td>5639623078712724064.1640254056.1640254056</td>\n",
       "      <td>0</td>\n",
       "      <td>kjsLglQLzykiRbcDiGcD</td>\n",
       "      <td>cpc</td>\n",
       "      <td>other</td>\n",
       "      <td>mobile</td>\n",
       "      <td>Russia</td>\n",
       "      <td>2</td>\n",
       "      <td>volkswagen tiguan</td>\n",
       "    </tr>\n",
       "    <tr>\n",
       "      <th>4</th>\n",
       "      <td>5639623078712724064.1640254056.1640254056</td>\n",
       "      <td>0</td>\n",
       "      <td>kjsLglQLzykiRbcDiGcD</td>\n",
       "      <td>cpc</td>\n",
       "      <td>other</td>\n",
       "      <td>mobile</td>\n",
       "      <td>Russia</td>\n",
       "      <td>2</td>\n",
       "      <td>kia seltos</td>\n",
       "    </tr>\n",
       "    <tr>\n",
       "      <th>...</th>\n",
       "      <td>...</td>\n",
       "      <td>...</td>\n",
       "      <td>...</td>\n",
       "      <td>...</td>\n",
       "      <td>...</td>\n",
       "      <td>...</td>\n",
       "      <td>...</td>\n",
       "      <td>...</td>\n",
       "      <td>...</td>\n",
       "    </tr>\n",
       "    <tr>\n",
       "      <th>15854241</th>\n",
       "      <td>9055129193028075829.1639938697.1639938697</td>\n",
       "      <td>0</td>\n",
       "      <td>kjsLglQLzykiRbcDiGcD</td>\n",
       "      <td>cpc</td>\n",
       "      <td>other</td>\n",
       "      <td>mobile</td>\n",
       "      <td>Russia</td>\n",
       "      <td>1</td>\n",
       "      <td>other</td>\n",
       "    </tr>\n",
       "    <tr>\n",
       "      <th>15854242</th>\n",
       "      <td>9055187445667825414.1637582599.1637582599</td>\n",
       "      <td>0</td>\n",
       "      <td>QxAxdyPLuQMEcrdZWdWb</td>\n",
       "      <td>cpc</td>\n",
       "      <td>KXRJMPPRGoMIgkFfvZpk</td>\n",
       "      <td>mobile</td>\n",
       "      <td>United States</td>\n",
       "      <td>4</td>\n",
       "      <td>other</td>\n",
       "    </tr>\n",
       "    <tr>\n",
       "      <th>15854243</th>\n",
       "      <td>9055219267083609040.1640670160.1640670160</td>\n",
       "      <td>0</td>\n",
       "      <td>ZpYIoDJMcFzVoPFsHGJL</td>\n",
       "      <td>banner</td>\n",
       "      <td>LEoPHuyFvzoNfnzGgfcd</td>\n",
       "      <td>mobile</td>\n",
       "      <td>Russia</td>\n",
       "      <td>1</td>\n",
       "      <td>other</td>\n",
       "    </tr>\n",
       "    <tr>\n",
       "      <th>15854244</th>\n",
       "      <td>9055237430499220580.1639607417.1639607417</td>\n",
       "      <td>0</td>\n",
       "      <td>fDLlAcSmythWSCVMvqvL</td>\n",
       "      <td>(none)</td>\n",
       "      <td>LTuZkdKfxRGVceoWkVyg</td>\n",
       "      <td>mobile</td>\n",
       "      <td>Russia</td>\n",
       "      <td>1</td>\n",
       "      <td>other</td>\n",
       "    </tr>\n",
       "    <tr>\n",
       "      <th>15854245</th>\n",
       "      <td>9055401700113249881.1639446112.1639446112</td>\n",
       "      <td>0</td>\n",
       "      <td>ZpYIoDJMcFzVoPFsHGJL</td>\n",
       "      <td>banner</td>\n",
       "      <td>TmThBvoCcwkCZZUWACYq</td>\n",
       "      <td>mobile</td>\n",
       "      <td>Russia</td>\n",
       "      <td>3</td>\n",
       "      <td>other</td>\n",
       "    </tr>\n",
       "  </tbody>\n",
       "</table>\n",
       "<p>15854246 rows × 9 columns</p>\n",
       "</div>"
      ],
      "text/plain": [
       "                                         session_id  event_action  \\\n",
       "0         5639623078712724064.1640254056.1640254056             0   \n",
       "1         5639623078712724064.1640254056.1640254056             0   \n",
       "2         5639623078712724064.1640254056.1640254056             0   \n",
       "3         5639623078712724064.1640254056.1640254056             0   \n",
       "4         5639623078712724064.1640254056.1640254056             0   \n",
       "...                                             ...           ...   \n",
       "15854241  9055129193028075829.1639938697.1639938697             0   \n",
       "15854242  9055187445667825414.1637582599.1637582599             0   \n",
       "15854243  9055219267083609040.1640670160.1640670160             0   \n",
       "15854244  9055237430499220580.1639607417.1639607417             0   \n",
       "15854245  9055401700113249881.1639446112.1639446112             0   \n",
       "\n",
       "                    utm_source utm_medium          utm_campaign  \\\n",
       "0         kjsLglQLzykiRbcDiGcD        cpc                 other   \n",
       "1         kjsLglQLzykiRbcDiGcD        cpc                 other   \n",
       "2         kjsLglQLzykiRbcDiGcD        cpc                 other   \n",
       "3         kjsLglQLzykiRbcDiGcD        cpc                 other   \n",
       "4         kjsLglQLzykiRbcDiGcD        cpc                 other   \n",
       "...                        ...        ...                   ...   \n",
       "15854241  kjsLglQLzykiRbcDiGcD        cpc                 other   \n",
       "15854242  QxAxdyPLuQMEcrdZWdWb        cpc  KXRJMPPRGoMIgkFfvZpk   \n",
       "15854243  ZpYIoDJMcFzVoPFsHGJL     banner  LEoPHuyFvzoNfnzGgfcd   \n",
       "15854244  fDLlAcSmythWSCVMvqvL     (none)  LTuZkdKfxRGVceoWkVyg   \n",
       "15854245  ZpYIoDJMcFzVoPFsHGJL     banner  TmThBvoCcwkCZZUWACYq   \n",
       "\n",
       "         device_category    geo_country  geo_city          car_model  \n",
       "0                 mobile         Russia         2              other  \n",
       "1                 mobile         Russia         2         kia seltos  \n",
       "2                 mobile         Russia         2  volkswagen tiguan  \n",
       "3                 mobile         Russia         2  volkswagen tiguan  \n",
       "4                 mobile         Russia         2         kia seltos  \n",
       "...                  ...            ...       ...                ...  \n",
       "15854241          mobile         Russia         1              other  \n",
       "15854242          mobile  United States         4              other  \n",
       "15854243          mobile         Russia         1              other  \n",
       "15854244          mobile         Russia         1              other  \n",
       "15854245          mobile         Russia         3              other  \n",
       "\n",
       "[15854246 rows x 9 columns]"
      ]
     },
     "execution_count": 8,
     "metadata": {},
     "output_type": "execute_result"
    }
   ],
   "source": [
    "df = pd.read_csv('df.csv')\n",
    "df"
   ]
  },
  {
   "cell_type": "markdown",
   "id": "ec3282a2-e179-47a6-8c28-aa7021ed7f34",
   "metadata": {
    "tags": []
   },
   "source": [
    "### 1. Из каких источников (кампаний, устройств, локаций) к нам идёт самый целевой трафик (и с точки зрения объёма трафика, и с точки зрения CR)?"
   ]
  },
  {
   "cell_type": "markdown",
   "id": "91aa0adb-d024-4d6d-a701-eabb8b5c6631",
   "metadata": {
    "jp-MarkdownHeadingCollapsed": true,
    "tags": []
   },
   "source": [
    "#### 1.1 Кампании"
   ]
  },
  {
   "cell_type": "code",
   "execution_count": 10,
   "id": "a3e6d2a3-cbfa-415b-ad07-daea22b530f0",
   "metadata": {
    "tags": []
   },
   "outputs": [
    {
     "data": {
      "text/html": [
       "<div>\n",
       "<style scoped>\n",
       "    .dataframe tbody tr th:only-of-type {\n",
       "        vertical-align: middle;\n",
       "    }\n",
       "\n",
       "    .dataframe tbody tr th {\n",
       "        vertical-align: top;\n",
       "    }\n",
       "\n",
       "    .dataframe thead th {\n",
       "        text-align: right;\n",
       "    }\n",
       "</style>\n",
       "<table border=\"1\" class=\"dataframe\">\n",
       "  <thead>\n",
       "    <tr style=\"text-align: right;\">\n",
       "      <th></th>\n",
       "      <th>utm_campaign</th>\n",
       "    </tr>\n",
       "  </thead>\n",
       "  <tbody>\n",
       "    <tr>\n",
       "      <th>LTuZkdKfxRGVceoWkVyg</th>\n",
       "      <td>37744</td>\n",
       "    </tr>\n",
       "    <tr>\n",
       "      <th>other</th>\n",
       "      <td>18616</td>\n",
       "    </tr>\n",
       "    <tr>\n",
       "      <th>LEoPHuyFvzoNfnzGgfcd</th>\n",
       "      <td>18326</td>\n",
       "    </tr>\n",
       "    <tr>\n",
       "      <th>gecBYcKZCPMcVYdSSzKP</th>\n",
       "      <td>9619</td>\n",
       "    </tr>\n",
       "    <tr>\n",
       "      <th>FTjNLDyTrXaWYgZymFkV</th>\n",
       "      <td>4598</td>\n",
       "    </tr>\n",
       "    <tr>\n",
       "      <th>sbJRYgVfvcnqKJNDDYIr</th>\n",
       "      <td>1275</td>\n",
       "    </tr>\n",
       "    <tr>\n",
       "      <th>XHNUiSKKGTEpSAlaVMFQ</th>\n",
       "      <td>927</td>\n",
       "    </tr>\n",
       "    <tr>\n",
       "      <th>SgIUDYUKnyWHVowUOqid</th>\n",
       "      <td>779</td>\n",
       "    </tr>\n",
       "    <tr>\n",
       "      <th>LwJZxKuWmvOhPsaCeRjG</th>\n",
       "      <td>580</td>\n",
       "    </tr>\n",
       "    <tr>\n",
       "      <th>zxoiLxhuSIFrCeTLQVWZ</th>\n",
       "      <td>527</td>\n",
       "    </tr>\n",
       "  </tbody>\n",
       "</table>\n",
       "</div>"
      ],
      "text/plain": [
       "                      utm_campaign\n",
       "LTuZkdKfxRGVceoWkVyg         37744\n",
       "other                        18616\n",
       "LEoPHuyFvzoNfnzGgfcd         18326\n",
       "gecBYcKZCPMcVYdSSzKP          9619\n",
       "FTjNLDyTrXaWYgZymFkV          4598\n",
       "sbJRYgVfvcnqKJNDDYIr          1275\n",
       "XHNUiSKKGTEpSAlaVMFQ           927\n",
       "SgIUDYUKnyWHVowUOqid           779\n",
       "LwJZxKuWmvOhPsaCeRjG           580\n",
       "zxoiLxhuSIFrCeTLQVWZ           527"
      ]
     },
     "execution_count": 10,
     "metadata": {},
     "output_type": "execute_result"
    }
   ],
   "source": [
    "# сделаем фильтр по целевому трафику и посмотрим кампании с самыми высокими значениями в целевую переменную\n",
    "df[df.event_action == 1]['utm_campaign'].value_counts().to_frame().head(10)"
   ]
  },
  {
   "cell_type": "code",
   "execution_count": 11,
   "id": "3c00d90b-2e97-4b22-b69f-dce560679bf0",
   "metadata": {
    "tags": []
   },
   "outputs": [
    {
     "data": {
      "text/html": [
       "<div>\n",
       "<style scoped>\n",
       "    .dataframe tbody tr th:only-of-type {\n",
       "        vertical-align: middle;\n",
       "    }\n",
       "\n",
       "    .dataframe tbody tr th {\n",
       "        vertical-align: top;\n",
       "    }\n",
       "\n",
       "    .dataframe thead th {\n",
       "        text-align: right;\n",
       "    }\n",
       "</style>\n",
       "<table border=\"1\" class=\"dataframe\">\n",
       "  <thead>\n",
       "    <tr style=\"text-align: right;\">\n",
       "      <th></th>\n",
       "      <th>utm_campaign</th>\n",
       "    </tr>\n",
       "  </thead>\n",
       "  <tbody>\n",
       "    <tr>\n",
       "      <th>LTuZkdKfxRGVceoWkVyg</th>\n",
       "      <td>5207010</td>\n",
       "    </tr>\n",
       "    <tr>\n",
       "      <th>LEoPHuyFvzoNfnzGgfcd</th>\n",
       "      <td>3180023</td>\n",
       "    </tr>\n",
       "    <tr>\n",
       "      <th>other</th>\n",
       "      <td>2264440</td>\n",
       "    </tr>\n",
       "    <tr>\n",
       "      <th>gecBYcKZCPMcVYdSSzKP</th>\n",
       "      <td>1139342</td>\n",
       "    </tr>\n",
       "    <tr>\n",
       "      <th>FTjNLDyTrXaWYgZymFkV</th>\n",
       "      <td>763369</td>\n",
       "    </tr>\n",
       "    <tr>\n",
       "      <th>okTXSMadDkjvntEHzIjp</th>\n",
       "      <td>185765</td>\n",
       "    </tr>\n",
       "    <tr>\n",
       "      <th>sbJRYgVfvcnqKJNDDYIr</th>\n",
       "      <td>184266</td>\n",
       "    </tr>\n",
       "    <tr>\n",
       "      <th>SgIUDYUKnyWHVowUOqid</th>\n",
       "      <td>180944</td>\n",
       "    </tr>\n",
       "    <tr>\n",
       "      <th>TmThBvoCcwkCZZUWACYq</th>\n",
       "      <td>167548</td>\n",
       "    </tr>\n",
       "    <tr>\n",
       "      <th>bxOTvPtyGSdUrbwoXCPO</th>\n",
       "      <td>117590</td>\n",
       "    </tr>\n",
       "  </tbody>\n",
       "</table>\n",
       "</div>"
      ],
      "text/plain": [
       "                      utm_campaign\n",
       "LTuZkdKfxRGVceoWkVyg       5207010\n",
       "LEoPHuyFvzoNfnzGgfcd       3180023\n",
       "other                      2264440\n",
       "gecBYcKZCPMcVYdSSzKP       1139342\n",
       "FTjNLDyTrXaWYgZymFkV        763369\n",
       "okTXSMadDkjvntEHzIjp        185765\n",
       "sbJRYgVfvcnqKJNDDYIr        184266\n",
       "SgIUDYUKnyWHVowUOqid        180944\n",
       "TmThBvoCcwkCZZUWACYq        167548\n",
       "bxOTvPtyGSdUrbwoXCPO        117590"
      ]
     },
     "execution_count": 11,
     "metadata": {},
     "output_type": "execute_result"
    }
   ],
   "source": [
    "# если просто проанализировать значения столбца utm_campaign, то заметно что первые 5 кампаний - те же самые. Проанализируем их. \n",
    "# Опустим other, так как мы так заполняли неизвестные\n",
    "df['utm_campaign'].value_counts().to_frame().head(10)"
   ]
  },
  {
   "cell_type": "code",
   "execution_count": 12,
   "id": "bc91b1e4-39cd-415a-9c78-e85844d9bdfc",
   "metadata": {
    "tags": []
   },
   "outputs": [
    {
     "data": {
      "text/html": [
       "<div>\n",
       "<style scoped>\n",
       "    .dataframe tbody tr th:only-of-type {\n",
       "        vertical-align: middle;\n",
       "    }\n",
       "\n",
       "    .dataframe tbody tr th {\n",
       "        vertical-align: top;\n",
       "    }\n",
       "\n",
       "    .dataframe thead th {\n",
       "        text-align: right;\n",
       "    }\n",
       "</style>\n",
       "<table border=\"1\" class=\"dataframe\">\n",
       "  <thead>\n",
       "    <tr style=\"text-align: right;\">\n",
       "      <th></th>\n",
       "      <th>target</th>\n",
       "      <th>full</th>\n",
       "      <th>CR %</th>\n",
       "    </tr>\n",
       "  </thead>\n",
       "  <tbody>\n",
       "    <tr>\n",
       "      <th>LTuZkdKfxRGVceoWkVyg</th>\n",
       "      <td>37744</td>\n",
       "      <td>5207010</td>\n",
       "      <td>0.724869</td>\n",
       "    </tr>\n",
       "    <tr>\n",
       "      <th>LEoPHuyFvzoNfnzGgfcd</th>\n",
       "      <td>18326</td>\n",
       "      <td>3180023</td>\n",
       "      <td>0.576285</td>\n",
       "    </tr>\n",
       "    <tr>\n",
       "      <th>gecBYcKZCPMcVYdSSzKP</th>\n",
       "      <td>9619</td>\n",
       "      <td>1139342</td>\n",
       "      <td>0.844259</td>\n",
       "    </tr>\n",
       "    <tr>\n",
       "      <th>FTjNLDyTrXaWYgZymFkV</th>\n",
       "      <td>4598</td>\n",
       "      <td>763369</td>\n",
       "      <td>0.602330</td>\n",
       "    </tr>\n",
       "    <tr>\n",
       "      <th>sbJRYgVfvcnqKJNDDYIr</th>\n",
       "      <td>1275</td>\n",
       "      <td>184266</td>\n",
       "      <td>0.691934</td>\n",
       "    </tr>\n",
       "  </tbody>\n",
       "</table>\n",
       "</div>"
      ],
      "text/plain": [
       "                      target     full      CR %\n",
       "LTuZkdKfxRGVceoWkVyg   37744  5207010  0.724869\n",
       "LEoPHuyFvzoNfnzGgfcd   18326  3180023  0.576285\n",
       "gecBYcKZCPMcVYdSSzKP    9619  1139342  0.844259\n",
       "FTjNLDyTrXaWYgZymFkV    4598   763369  0.602330\n",
       "sbJRYgVfvcnqKJNDDYIr    1275   184266  0.691934"
      ]
     },
     "execution_count": 12,
     "metadata": {},
     "output_type": "execute_result"
    }
   ],
   "source": [
    "camp = pd.DataFrame({'target': [37744, 18326, 9619, 4598, 1275],\n",
    "                    'full': [5207010, 3180023, 1139342, 763369, 184266]}, \n",
    "                    index = ['LTuZkdKfxRGVceoWkVyg', 'LEoPHuyFvzoNfnzGgfcd', 'gecBYcKZCPMcVYdSSzKP', 'FTjNLDyTrXaWYgZymFkV', 'sbJRYgVfvcnqKJNDDYIr'])\n",
    "camp['CR %'] = camp['target'] / camp['full'] * 100\n",
    "camp"
   ]
  },
  {
   "cell_type": "code",
   "execution_count": 13,
   "id": "fd7af7d9-5560-429e-8f89-cfb7a42b5ff4",
   "metadata": {
    "tags": []
   },
   "outputs": [
    {
     "data": {
      "text/plain": [
       "0.6879355531859523"
      ]
     },
     "execution_count": 13,
     "metadata": {},
     "output_type": "execute_result"
    }
   ],
   "source": [
    "camp['CR %'].mean()"
   ]
  },
  {
   "cell_type": "code",
   "execution_count": 14,
   "id": "b0f6bd79-0734-4dbd-9371-7fba1a4d0442",
   "metadata": {
    "tags": []
   },
   "outputs": [
    {
     "data": {
      "text/html": [
       "<div>\n",
       "<style scoped>\n",
       "    .dataframe tbody tr th:only-of-type {\n",
       "        vertical-align: middle;\n",
       "    }\n",
       "\n",
       "    .dataframe tbody tr th {\n",
       "        vertical-align: top;\n",
       "    }\n",
       "\n",
       "    .dataframe thead th {\n",
       "        text-align: right;\n",
       "    }\n",
       "</style>\n",
       "<table border=\"1\" class=\"dataframe\">\n",
       "  <thead>\n",
       "    <tr style=\"text-align: right;\">\n",
       "      <th></th>\n",
       "      <th>target</th>\n",
       "      <th>full</th>\n",
       "    </tr>\n",
       "  </thead>\n",
       "  <tbody>\n",
       "    <tr>\n",
       "      <th>LTuZkdKfxRGVceoWkVyg</th>\n",
       "      <td>37744</td>\n",
       "      <td>5207010</td>\n",
       "    </tr>\n",
       "    <tr>\n",
       "      <th>LEoPHuyFvzoNfnzGgfcd</th>\n",
       "      <td>18326</td>\n",
       "      <td>3180023</td>\n",
       "    </tr>\n",
       "    <tr>\n",
       "      <th>gecBYcKZCPMcVYdSSzKP</th>\n",
       "      <td>9619</td>\n",
       "      <td>1139342</td>\n",
       "    </tr>\n",
       "    <tr>\n",
       "      <th>FTjNLDyTrXaWYgZymFkV</th>\n",
       "      <td>4598</td>\n",
       "      <td>763369</td>\n",
       "    </tr>\n",
       "    <tr>\n",
       "      <th>sbJRYgVfvcnqKJNDDYIr</th>\n",
       "      <td>1275</td>\n",
       "      <td>184266</td>\n",
       "    </tr>\n",
       "  </tbody>\n",
       "</table>\n",
       "</div>"
      ],
      "text/plain": [
       "                      target     full\n",
       "LTuZkdKfxRGVceoWkVyg   37744  5207010\n",
       "LEoPHuyFvzoNfnzGgfcd   18326  3180023\n",
       "gecBYcKZCPMcVYdSSzKP    9619  1139342\n",
       "FTjNLDyTrXaWYgZymFkV    4598   763369\n",
       "sbJRYgVfvcnqKJNDDYIr    1275   184266"
      ]
     },
     "execution_count": 14,
     "metadata": {},
     "output_type": "execute_result"
    }
   ],
   "source": [
    "camp[['target', 'full']]"
   ]
  },
  {
   "cell_type": "code",
   "execution_count": 15,
   "id": "f700d188-7c5c-46d3-8d26-fe445a41f64a",
   "metadata": {
    "tags": []
   },
   "outputs": [
    {
     "data": {
      "image/png": "[encoded data removed]",
      "text/plain": [
       "<Figure size 640x480 with 1 Axes>"
      ]
     },
     "metadata": {},
     "output_type": "display_data"
    }
   ],
   "source": [
    "species = camp.index\n",
    "data = camp[['target', 'full']]\n",
    "x = np.arange(len(species))\n",
    "width = 0.4\n",
    "multiplier = 0\n",
    "\n",
    "fig, ax = plt.subplots(layout = 'constrained');\n",
    "\n",
    "for k, v in data.items():\n",
    "    offset = width * multiplier\n",
    "    rects = ax.bar(x+offset, v, width, label = k);\n",
    "    ax.bar_label(rects, padding = 2)\n",
    "    multiplier += 1\n",
    "\n",
    "ax.set_ylabel('Scores');\n",
    "ax.set_xlabel('Campaigns');\n",
    "ax.set_title('Tagtet and full distribution for campaigns');\n",
    "ax.set_xticks(x + width, species, rotation = 45);\n",
    "ax.legend(loc = 'upper right', ncols = 2);"
   ]
  },
  {
   "cell_type": "code",
   "execution_count": 28,
   "id": "2a5a0958-40ba-4b3f-932a-3206be37e870",
   "metadata": {
    "tags": []
   },
   "outputs": [
    {
     "data": {
      "image/png": "[encoded data removed]",
      "text/plain": [
       "<Figure size 640x480 with 1 Axes>"
      ]
     },
     "metadata": {},
     "output_type": "display_data"
    }
   ],
   "source": [
    "species = camp.sort_values(by = ['CR %'], ascending = [False]).index\n",
    "data = camp.sort_values(by = ['CR %'], ascending = [False])['CR %']\n",
    "x = np.arange(len(species))\n",
    "width = 0.4\n",
    "\n",
    "plt.figure()\n",
    "p = plt.bar(species, data, label = camp.sort_values(by = ['CR %'], ascending = [False]).index, color = 'violet')\n",
    "plt.bar_label(p, label_type = 'center', color = 'black')\n",
    "\n",
    "plt.ylabel('CR %');\n",
    "plt.xlabel('Campaigns');\n",
    "plt.title('Tagtet and full distribution for campaigns');\n",
    "plt.xticks(x, species, rotation = 45);"
   ]
  },
  {
   "cell_type": "markdown",
   "id": "9cfa2618-8a8d-4a2f-8f55-68b459d1e988",
   "metadata": {},
   "source": [
    "Выводы\n",
    "\n",
    "1. Самый большой трафик - из кампании LTuZkdKfxRGVceoWkVyg (5207010), из него также самый большой целевой трафик - 37744.\n",
    "2. Конверсии из 5 самых крупных кампаний в среднем примерно равны 0.69 %\n",
    "3. Самое высокое значение конверсии наблюдается для кампании gecBYcKZCPMcVYdSSzKP (0.844259 %)"
   ]
  },
  {
   "cell_type": "markdown",
   "id": "3ff3eb23-e967-4c45-bbe7-8dd87657f1e3",
   "metadata": {
    "jp-MarkdownHeadingCollapsed": true,
    "tags": []
   },
   "source": [
    "#### 1.2 Устройства"
   ]
  },
  {
   "cell_type": "markdown",
   "id": "4406bb8e-b49c-44aa-893e-079ba0c7fce8",
   "metadata": {},
   "source": [
    "Будем сравнить 3 типа устройства - mobile, desctop, tablet"
   ]
  },
  {
   "cell_type": "code",
   "execution_count": 83,
   "id": "7c625e1f-efd3-4f64-848d-a3c813975421",
   "metadata": {
    "tags": []
   },
   "outputs": [
    {
     "data": {
      "text/html": [
       "<div>\n",
       "<style scoped>\n",
       "    .dataframe tbody tr th:only-of-type {\n",
       "        vertical-align: middle;\n",
       "    }\n",
       "\n",
       "    .dataframe tbody tr th {\n",
       "        vertical-align: top;\n",
       "    }\n",
       "\n",
       "    .dataframe thead th {\n",
       "        text-align: right;\n",
       "    }\n",
       "</style>\n",
       "<table border=\"1\" class=\"dataframe\">\n",
       "  <thead>\n",
       "    <tr style=\"text-align: right;\">\n",
       "      <th></th>\n",
       "      <th>target</th>\n",
       "      <th>full</th>\n",
       "      <th>CR%</th>\n",
       "    </tr>\n",
       "  </thead>\n",
       "  <tbody>\n",
       "    <tr>\n",
       "      <th>mobile</th>\n",
       "      <td>78900</td>\n",
       "      <td>11742984</td>\n",
       "      <td>0.671891</td>\n",
       "    </tr>\n",
       "    <tr>\n",
       "      <th>desktop</th>\n",
       "      <td>25243</td>\n",
       "      <td>3965226</td>\n",
       "      <td>0.636609</td>\n",
       "    </tr>\n",
       "    <tr>\n",
       "      <th>tablet</th>\n",
       "      <td>765</td>\n",
       "      <td>146036</td>\n",
       "      <td>0.523843</td>\n",
       "    </tr>\n",
       "  </tbody>\n",
       "</table>\n",
       "</div>"
      ],
      "text/plain": [
       "         target      full       CR%\n",
       "mobile    78900  11742984  0.671891\n",
       "desktop   25243   3965226  0.636609\n",
       "tablet      765    146036  0.523843"
      ]
     },
     "execution_count": 83,
     "metadata": {},
     "output_type": "execute_result"
    }
   ],
   "source": [
    "devices = pd.DataFrame({'target': df[df.event_action == 1]['device_category'].value_counts(),\n",
    "                       'full': df['device_category'].value_counts()}, \n",
    "                       index = ['mobile', 'desktop', 'tablet'])\n",
    "devices['CR%'] = devices['target'] * 100 / devices['full']\n",
    "devices"
   ]
  },
  {
   "cell_type": "code",
   "execution_count": 84,
   "id": "de543da1-69f4-40fc-b02f-6d2b4d1723e7",
   "metadata": {
    "tags": []
   },
   "outputs": [
    {
     "data": {
      "image/png": "[encoded data removed]",
      "text/plain": [
       "<Figure size 640x480 with 1 Axes>"
      ]
     },
     "metadata": {},
     "output_type": "display_data"
    }
   ],
   "source": [
    "species = devices.index\n",
    "data = devices[['target', 'full']]\n",
    "x = np.arange(len(species))\n",
    "width = 0.4\n",
    "multiplier = 0\n",
    "\n",
    "fig, ax = plt.subplots(layout = 'constrained');\n",
    "\n",
    "for k, v in data.items():\n",
    "    offset = width * multiplier\n",
    "    rects = ax.bar(x+offset, v, width, label = k);\n",
    "    ax.bar_label(rects, padding = 2)\n",
    "    multiplier += 1\n",
    "\n",
    "ax.set_ylabel('Scores');\n",
    "ax.set_xlabel('Devices');\n",
    "ax.set_title('Tagtet and full distribution for devices');\n",
    "ax.set_xticks(x + width, species);\n",
    "ax.legend(loc = 'upper right', ncols = 2);"
   ]
  },
  {
   "cell_type": "code",
   "execution_count": 85,
   "id": "be8fea73-f354-4978-8838-90862fa1f359",
   "metadata": {
    "tags": []
   },
   "outputs": [
    {
     "data": {
      "image/png": "[encoded data removed]",
      "text/plain": [
       "<Figure size 640x480 with 1 Axes>"
      ]
     },
     "metadata": {},
     "output_type": "display_data"
    }
   ],
   "source": [
    "species = devices.index\n",
    "data = devices['CR%']\n",
    "x = np.arange(len(species))\n",
    "width = 0.4\n",
    "\n",
    "plt.figure()\n",
    "p = plt.bar(species, data, label = devices['CR%'], color = 'pink')\n",
    "plt.bar_label(p, label_type = 'center', color = 'black')\n",
    "\n",
    "plt.ylabel('CR %');\n",
    "plt.xlabel('Devices');\n",
    "plt.title('Tagtet and full distribution for devices');\n",
    "plt.xticks(x, species);"
   ]
  },
  {
   "cell_type": "markdown",
   "id": "83cb0847-808f-4bce-8a94-293af96a5756",
   "metadata": {},
   "source": [
    "Выводы:\n",
    "\n",
    "1. есть 3 типа устройств - mobile, desktop, tablet\n",
    "2. самый большой траффик приходит из mobile - 11742984, из которого целевой трафик - 78900, что превышает следующую по величине категорию (desktop) более чем в 2 раза\n",
    "3. лидирует и конверсия для mobile - 0,67 %, однако конверсия destop также близка по значению - 0,64 %, когда конверсия tablet уже значительно ниже - 0,52 %"
   ]
  },
  {
   "cell_type": "markdown",
   "id": "9697da08-8beb-4325-aa0d-9246c8f2aa82",
   "metadata": {
    "jp-MarkdownHeadingCollapsed": true,
    "tags": []
   },
   "source": [
    "#### 1.3 Локации"
   ]
  },
  {
   "cell_type": "markdown",
   "id": "072a391d-a31a-419b-828a-1758a98fb5be",
   "metadata": {},
   "source": [
    "Сравним 4 локации - Москва, Спб, регионы России, зарубеж"
   ]
  },
  {
   "cell_type": "code",
   "execution_count": 30,
   "id": "d81bd636-fd3d-4e65-b93e-64d332cfda71",
   "metadata": {
    "tags": []
   },
   "outputs": [
    {
     "data": {
      "text/plain": [
       "1    53315\n",
       "3    33335\n",
       "2    13736\n",
       "5     2568\n",
       "4     1954\n",
       "Name: geo_city, dtype: int64"
      ]
     },
     "execution_count": 30,
     "metadata": {},
     "output_type": "execute_result"
    }
   ],
   "source": [
    "df[df.event_action == 1]['geo_city'].value_counts()"
   ]
  },
  {
   "cell_type": "code",
   "execution_count": 31,
   "id": "0abf4852-b9d4-44da-9e2e-ebcd2bebcb4c",
   "metadata": {
    "tags": []
   },
   "outputs": [
    {
     "data": {
      "text/plain": [
       "1    6890770\n",
       "3    5632535\n",
       "2    2383906\n",
       "5     523090\n",
       "4     423945\n",
       "Name: geo_city, dtype: int64"
      ]
     },
     "execution_count": 31,
     "metadata": {},
     "output_type": "execute_result"
    }
   ],
   "source": [
    "df['geo_city'].value_counts()"
   ]
  },
  {
   "cell_type": "code",
   "execution_count": 32,
   "id": "1de2bfa7-7681-45aa-b96b-952b61cc609a",
   "metadata": {
    "tags": []
   },
   "outputs": [
    {
     "data": {
      "text/html": [
       "<div>\n",
       "<style scoped>\n",
       "    .dataframe tbody tr th:only-of-type {\n",
       "        vertical-align: middle;\n",
       "    }\n",
       "\n",
       "    .dataframe tbody tr th {\n",
       "        vertical-align: top;\n",
       "    }\n",
       "\n",
       "    .dataframe thead th {\n",
       "        text-align: right;\n",
       "    }\n",
       "</style>\n",
       "<table border=\"1\" class=\"dataframe\">\n",
       "  <thead>\n",
       "    <tr style=\"text-align: right;\">\n",
       "      <th></th>\n",
       "      <th>target</th>\n",
       "      <th>full</th>\n",
       "      <th>CR%</th>\n",
       "    </tr>\n",
       "  </thead>\n",
       "  <tbody>\n",
       "    <tr>\n",
       "      <th>Moscow</th>\n",
       "      <td>53315</td>\n",
       "      <td>6890770</td>\n",
       "      <td>0.773716</td>\n",
       "    </tr>\n",
       "    <tr>\n",
       "      <th>SPb</th>\n",
       "      <td>13736</td>\n",
       "      <td>2383906</td>\n",
       "      <td>0.576197</td>\n",
       "    </tr>\n",
       "    <tr>\n",
       "      <th>Russian_regions</th>\n",
       "      <td>33335</td>\n",
       "      <td>5632535</td>\n",
       "      <td>0.591829</td>\n",
       "    </tr>\n",
       "    <tr>\n",
       "      <th>Foreign_regions</th>\n",
       "      <td>1954</td>\n",
       "      <td>423945</td>\n",
       "      <td>0.460909</td>\n",
       "    </tr>\n",
       "  </tbody>\n",
       "</table>\n",
       "</div>"
      ],
      "text/plain": [
       "                 target     full       CR%\n",
       "Moscow            53315  6890770  0.773716\n",
       "SPb               13736  2383906  0.576197\n",
       "Russian_regions   33335  5632535  0.591829\n",
       "Foreign_regions    1954   423945  0.460909"
      ]
     },
     "execution_count": 32,
     "metadata": {},
     "output_type": "execute_result"
    }
   ],
   "source": [
    "locations = pd.DataFrame({'target': [53315, 13736, 33335, 1954],\n",
    "                       'full': [6890770, 2383906, 5632535, 423945]}, \n",
    "                         index = ['Moscow', 'SPb', 'Russian_regions', 'Foreign_regions'])\n",
    "locations['CR%'] = locations['target'] * 100 / locations['full']\n",
    "locations"
   ]
  },
  {
   "cell_type": "code",
   "execution_count": 33,
   "id": "b02be635-df12-4906-859e-2a4c701fbb64",
   "metadata": {
    "tags": []
   },
   "outputs": [
    {
     "data": {
      "image/png": "[encoded data removed]",
      "text/plain": [
       "<Figure size 640x480 with 1 Axes>"
      ]
     },
     "metadata": {},
     "output_type": "display_data"
    }
   ],
   "source": [
    "species = locations.index\n",
    "data = locations.sort_values(['target', 'full'], ascending = [False, False])[['target', 'full']]\n",
    "x = np.arange(len(species))\n",
    "width = 0.4\n",
    "multiplier = 0\n",
    "\n",
    "fig, ax = plt.subplots(layout = 'constrained');\n",
    "\n",
    "for k, v in data.items():\n",
    "    offset = width * multiplier\n",
    "    rects = ax.bar(x+offset, v, width, label = k);\n",
    "    ax.bar_label(rects, padding = 2)\n",
    "    multiplier += 1\n",
    "\n",
    "ax.set_ylabel('Scores');\n",
    "ax.set_xlabel('Regions');\n",
    "ax.set_title('Tagtet and full distribution for regions');\n",
    "ax.set_xticks(x + width, species);\n",
    "ax.legend(loc = 'upper right', ncols = 4);"
   ]
  },
  {
   "cell_type": "code",
   "execution_count": 37,
   "id": "475dd3ae-cb70-4c26-9efc-3cf77d7f487d",
   "metadata": {
    "tags": []
   },
   "outputs": [
    {
     "data": {
      "image/png": "[encoded data removed]",
      "text/plain": [
       "<Figure size 640x480 with 1 Axes>"
      ]
     },
     "metadata": {},
     "output_type": "display_data"
    }
   ],
   "source": [
    "species = locations.sort_values(by = ['CR%'], ascending = [False]).index\n",
    "data = locations.sort_values(by = ['CR%'], ascending = [False])['CR%']\n",
    "x = np.arange(len(species))\n",
    "width = 0.4\n",
    "\n",
    "plt.figure()\n",
    "p = plt.bar(species, data, label = locations.sort_values(by = ['CR%'], ascending = [False])['CR%'], color = 'pink')\n",
    "plt.bar_label(p, label_type = 'center', color = 'black')\n",
    "\n",
    "plt.ylabel('CR %');\n",
    "plt.xlabel('Regions');\n",
    "plt.title('Tagtet and full distribution for regions');\n",
    "plt.xticks(x, species);"
   ]
  },
  {
   "cell_type": "markdown",
   "id": "369e30a6-e868-400e-a7da-6105ac578a34",
   "metadata": {},
   "source": [
    "Выводы:\n",
    "\n",
    "1. Москва и область - абсолютный лидер по трафику и конверсии среди остальных регионов:\n",
    "трафик - 6890770, целевой трафик - 53315, конверсия - 0,77 %\n",
    "2. На втором месте по трафику и конверсии - регионы России, затем - Санкт-Петербург, затем - зарубеж\n",
    "3. Хотя трафик СПб значительно меньше трафика регионов России, конверсия СПб практически равна конверсии регионов России - 0,58 % и 0,59 % соответственно"
   ]
  },
  {
   "cell_type": "markdown",
   "id": "20fa7727-627e-4902-aa7a-8f6fdc745bde",
   "metadata": {
    "tags": []
   },
   "source": [
    "### 2. Какие авто пользуются наибольшим спросом? У каких авто самый лучший показатель CR (Conversion Rate) в целевые события?"
   ]
  },
  {
   "cell_type": "code",
   "execution_count": 38,
   "id": "a80a9e1c-b3db-46be-8a91-31b5eefff0fd",
   "metadata": {},
   "outputs": [],
   "source": [
    "full = df.car_model.value_counts().to_frame()\n",
    "target = df[df['event_action'] == 1]['car_model'].value_counts().to_frame()"
   ]
  },
  {
   "cell_type": "code",
   "execution_count": 39,
   "id": "f42a1d7a-fc3c-460b-b8a5-c6b8ddc7cee7",
   "metadata": {
    "tags": []
   },
   "outputs": [
    {
     "data": {
      "text/html": [
       "<div>\n",
       "<style scoped>\n",
       "    .dataframe tbody tr th:only-of-type {\n",
       "        vertical-align: middle;\n",
       "    }\n",
       "\n",
       "    .dataframe tbody tr th {\n",
       "        vertical-align: top;\n",
       "    }\n",
       "\n",
       "    .dataframe thead th {\n",
       "        text-align: right;\n",
       "    }\n",
       "</style>\n",
       "<table border=\"1\" class=\"dataframe\">\n",
       "  <thead>\n",
       "    <tr style=\"text-align: right;\">\n",
       "      <th></th>\n",
       "      <th>target</th>\n",
       "      <th>full</th>\n",
       "      <th>CR%</th>\n",
       "    </tr>\n",
       "  </thead>\n",
       "  <tbody>\n",
       "    <tr>\n",
       "      <th>audi a3</th>\n",
       "      <td>55</td>\n",
       "      <td>17027</td>\n",
       "      <td>0.323016</td>\n",
       "    </tr>\n",
       "    <tr>\n",
       "      <th>audi a4</th>\n",
       "      <td>48</td>\n",
       "      <td>11986</td>\n",
       "      <td>0.400467</td>\n",
       "    </tr>\n",
       "    <tr>\n",
       "      <th>audi e-tron</th>\n",
       "      <td>39</td>\n",
       "      <td>17559</td>\n",
       "      <td>0.222108</td>\n",
       "    </tr>\n",
       "    <tr>\n",
       "      <th>audi q5</th>\n",
       "      <td>24</td>\n",
       "      <td>13450</td>\n",
       "      <td>0.178439</td>\n",
       "    </tr>\n",
       "    <tr>\n",
       "      <th>bmw 2-serii</th>\n",
       "      <td>85</td>\n",
       "      <td>22594</td>\n",
       "      <td>0.376206</td>\n",
       "    </tr>\n",
       "    <tr>\n",
       "      <th>...</th>\n",
       "      <td>...</td>\n",
       "      <td>...</td>\n",
       "      <td>...</td>\n",
       "    </tr>\n",
       "    <tr>\n",
       "      <th>volkswagen taos</th>\n",
       "      <td>0</td>\n",
       "      <td>4237</td>\n",
       "      <td>0.000000</td>\n",
       "    </tr>\n",
       "    <tr>\n",
       "      <th>volkswagen teramont</th>\n",
       "      <td>22</td>\n",
       "      <td>13564</td>\n",
       "      <td>0.162194</td>\n",
       "    </tr>\n",
       "    <tr>\n",
       "      <th>volkswagen tiguan</th>\n",
       "      <td>289</td>\n",
       "      <td>61779</td>\n",
       "      <td>0.467797</td>\n",
       "    </tr>\n",
       "    <tr>\n",
       "      <th>volkswagen touareg</th>\n",
       "      <td>99</td>\n",
       "      <td>18779</td>\n",
       "      <td>0.527185</td>\n",
       "    </tr>\n",
       "    <tr>\n",
       "      <th>volvo s90</th>\n",
       "      <td>244</td>\n",
       "      <td>51570</td>\n",
       "      <td>0.473143</td>\n",
       "    </tr>\n",
       "  </tbody>\n",
       "</table>\n",
       "<p>66 rows × 3 columns</p>\n",
       "</div>"
      ],
      "text/plain": [
       "                     target   full       CR%\n",
       "audi a3                  55  17027  0.323016\n",
       "audi a4                  48  11986  0.400467\n",
       "audi e-tron              39  17559  0.222108\n",
       "audi q5                  24  13450  0.178439\n",
       "bmw 2-serii              85  22594  0.376206\n",
       "...                     ...    ...       ...\n",
       "volkswagen taos           0   4237  0.000000\n",
       "volkswagen teramont      22  13564  0.162194\n",
       "volkswagen tiguan       289  61779  0.467797\n",
       "volkswagen touareg       99  18779  0.527185\n",
       "volvo s90               244  51570  0.473143\n",
       "\n",
       "[66 rows x 3 columns]"
      ]
     },
     "execution_count": 39,
     "metadata": {},
     "output_type": "execute_result"
    }
   ],
   "source": [
    "cars = pd.merge(left = target, right = full, left_index = True, right_index = True, how = 'outer')\n",
    "cars = cars.rename(columns = {'car_model_x': 'target', 'car_model_y': 'full'})\n",
    "\n",
    "# если в колонке target есть NaN значит, что конверсия равна 0, так как мы делали выборку только по значению 1. Заполним эти значения как 0\n",
    "\n",
    "cars['target'] = cars['target'].fillna(0)\n",
    "cars['CR%'] = cars['target'] * 100 / cars['full']\n",
    "cars['target'] = cars['target'].astype('int64')\n",
    "\n",
    "# исключим строку other, так как так мы заполняли ячейки от ссылок, в которых не было упоминания модели\n",
    "\n",
    "cars = cars.drop(labels = ['other'],axis = 0)\n",
    "cars"
   ]
  },
  {
   "cell_type": "markdown",
   "id": "1ccf0639-ba02-4e4b-b274-40072459ca66",
   "metadata": {},
   "source": [
    "Сортируем по target"
   ]
  },
  {
   "cell_type": "code",
   "execution_count": 43,
   "id": "73ce5338-1cc7-4db7-a32c-47811f269df8",
   "metadata": {},
   "outputs": [
    {
     "data": {
      "text/html": [
       "<div>\n",
       "<style scoped>\n",
       "    .dataframe tbody tr th:only-of-type {\n",
       "        vertical-align: middle;\n",
       "    }\n",
       "\n",
       "    .dataframe tbody tr th {\n",
       "        vertical-align: top;\n",
       "    }\n",
       "\n",
       "    .dataframe thead th {\n",
       "        text-align: right;\n",
       "    }\n",
       "</style>\n",
       "<table border=\"1\" class=\"dataframe\">\n",
       "  <thead>\n",
       "    <tr style=\"text-align: right;\">\n",
       "      <th></th>\n",
       "      <th>target</th>\n",
       "      <th>full</th>\n",
       "      <th>CR%</th>\n",
       "    </tr>\n",
       "  </thead>\n",
       "  <tbody>\n",
       "    <tr>\n",
       "      <th>skoda rapid</th>\n",
       "      <td>5783</td>\n",
       "      <td>439318</td>\n",
       "      <td>1.316359</td>\n",
       "    </tr>\n",
       "    <tr>\n",
       "      <th>lada-vaz vesta</th>\n",
       "      <td>5094</td>\n",
       "      <td>399195</td>\n",
       "      <td>1.276068</td>\n",
       "    </tr>\n",
       "    <tr>\n",
       "      <th>volkswagen polo</th>\n",
       "      <td>4421</td>\n",
       "      <td>314169</td>\n",
       "      <td>1.407204</td>\n",
       "    </tr>\n",
       "    <tr>\n",
       "      <th>kia rio</th>\n",
       "      <td>1408</td>\n",
       "      <td>89907</td>\n",
       "      <td>1.566063</td>\n",
       "    </tr>\n",
       "    <tr>\n",
       "      <th>skoda karoq</th>\n",
       "      <td>1297</td>\n",
       "      <td>193957</td>\n",
       "      <td>0.668705</td>\n",
       "    </tr>\n",
       "    <tr>\n",
       "      <th>...</th>\n",
       "      <td>...</td>\n",
       "      <td>...</td>\n",
       "      <td>...</td>\n",
       "    </tr>\n",
       "    <tr>\n",
       "      <th>volkswagen taos</th>\n",
       "      <td>0</td>\n",
       "      <td>4237</td>\n",
       "      <td>0.000000</td>\n",
       "    </tr>\n",
       "    <tr>\n",
       "      <th>mercedes-benz v-klasse</th>\n",
       "      <td>0</td>\n",
       "      <td>18</td>\n",
       "      <td>0.000000</td>\n",
       "    </tr>\n",
       "    <tr>\n",
       "      <th>kia k5</th>\n",
       "      <td>0</td>\n",
       "      <td>12</td>\n",
       "      <td>0.000000</td>\n",
       "    </tr>\n",
       "    <tr>\n",
       "      <th>porsche macan</th>\n",
       "      <td>0</td>\n",
       "      <td>7</td>\n",
       "      <td>0.000000</td>\n",
       "    </tr>\n",
       "    <tr>\n",
       "      <th>land-rover range-rover-velar</th>\n",
       "      <td>0</td>\n",
       "      <td>12</td>\n",
       "      <td>0.000000</td>\n",
       "    </tr>\n",
       "  </tbody>\n",
       "</table>\n",
       "<p>66 rows × 3 columns</p>\n",
       "</div>"
      ],
      "text/plain": [
       "                              target    full       CR%\n",
       "skoda rapid                     5783  439318  1.316359\n",
       "lada-vaz vesta                  5094  399195  1.276068\n",
       "volkswagen polo                 4421  314169  1.407204\n",
       "kia rio                         1408   89907  1.566063\n",
       "skoda karoq                     1297  193957  0.668705\n",
       "...                              ...     ...       ...\n",
       "volkswagen taos                    0    4237  0.000000\n",
       "mercedes-benz v-klasse             0      18  0.000000\n",
       "kia k5                             0      12  0.000000\n",
       "porsche macan                      0       7  0.000000\n",
       "land-rover range-rover-velar       0      12  0.000000\n",
       "\n",
       "[66 rows x 3 columns]"
      ]
     },
     "execution_count": 43,
     "metadata": {},
     "output_type": "execute_result"
    }
   ],
   "source": [
    "cars.sort_values(['target'], ascending=[False])"
   ]
  },
  {
   "cell_type": "markdown",
   "id": "660f9467-dd9b-4ccc-bcc7-9a9a13f225b7",
   "metadata": {},
   "source": [
    "Сортируем по full"
   ]
  },
  {
   "cell_type": "code",
   "execution_count": 44,
   "id": "f8b464d2-7fdf-4791-86c2-0f7323277259",
   "metadata": {
    "tags": []
   },
   "outputs": [
    {
     "data": {
      "text/html": [
       "<div>\n",
       "<style scoped>\n",
       "    .dataframe tbody tr th:only-of-type {\n",
       "        vertical-align: middle;\n",
       "    }\n",
       "\n",
       "    .dataframe tbody tr th {\n",
       "        vertical-align: top;\n",
       "    }\n",
       "\n",
       "    .dataframe thead th {\n",
       "        text-align: right;\n",
       "    }\n",
       "</style>\n",
       "<table border=\"1\" class=\"dataframe\">\n",
       "  <thead>\n",
       "    <tr style=\"text-align: right;\">\n",
       "      <th></th>\n",
       "      <th>target</th>\n",
       "      <th>full</th>\n",
       "      <th>CR%</th>\n",
       "    </tr>\n",
       "  </thead>\n",
       "  <tbody>\n",
       "    <tr>\n",
       "      <th>skoda rapid</th>\n",
       "      <td>5783</td>\n",
       "      <td>439318</td>\n",
       "      <td>1.316359</td>\n",
       "    </tr>\n",
       "    <tr>\n",
       "      <th>lada-vaz vesta</th>\n",
       "      <td>5094</td>\n",
       "      <td>399195</td>\n",
       "      <td>1.276068</td>\n",
       "    </tr>\n",
       "    <tr>\n",
       "      <th>volkswagen polo</th>\n",
       "      <td>4421</td>\n",
       "      <td>314169</td>\n",
       "      <td>1.407204</td>\n",
       "    </tr>\n",
       "    <tr>\n",
       "      <th>skoda karoq</th>\n",
       "      <td>1297</td>\n",
       "      <td>193957</td>\n",
       "      <td>0.668705</td>\n",
       "    </tr>\n",
       "    <tr>\n",
       "      <th>mercedes-benz e-klasse</th>\n",
       "      <td>1235</td>\n",
       "      <td>178307</td>\n",
       "      <td>0.692626</td>\n",
       "    </tr>\n",
       "    <tr>\n",
       "      <th>...</th>\n",
       "      <td>...</td>\n",
       "      <td>...</td>\n",
       "      <td>...</td>\n",
       "    </tr>\n",
       "    <tr>\n",
       "      <th>land-rover defender</th>\n",
       "      <td>0</td>\n",
       "      <td>98</td>\n",
       "      <td>0.000000</td>\n",
       "    </tr>\n",
       "    <tr>\n",
       "      <th>mercedes-benz v-klasse</th>\n",
       "      <td>0</td>\n",
       "      <td>18</td>\n",
       "      <td>0.000000</td>\n",
       "    </tr>\n",
       "    <tr>\n",
       "      <th>kia k5</th>\n",
       "      <td>0</td>\n",
       "      <td>12</td>\n",
       "      <td>0.000000</td>\n",
       "    </tr>\n",
       "    <tr>\n",
       "      <th>land-rover range-rover-velar</th>\n",
       "      <td>0</td>\n",
       "      <td>12</td>\n",
       "      <td>0.000000</td>\n",
       "    </tr>\n",
       "    <tr>\n",
       "      <th>porsche macan</th>\n",
       "      <td>0</td>\n",
       "      <td>7</td>\n",
       "      <td>0.000000</td>\n",
       "    </tr>\n",
       "  </tbody>\n",
       "</table>\n",
       "<p>66 rows × 3 columns</p>\n",
       "</div>"
      ],
      "text/plain": [
       "                              target    full       CR%\n",
       "skoda rapid                     5783  439318  1.316359\n",
       "lada-vaz vesta                  5094  399195  1.276068\n",
       "volkswagen polo                 4421  314169  1.407204\n",
       "skoda karoq                     1297  193957  0.668705\n",
       "mercedes-benz e-klasse          1235  178307  0.692626\n",
       "...                              ...     ...       ...\n",
       "land-rover defender                0      98  0.000000\n",
       "mercedes-benz v-klasse             0      18  0.000000\n",
       "kia k5                             0      12  0.000000\n",
       "land-rover range-rover-velar       0      12  0.000000\n",
       "porsche macan                      0       7  0.000000\n",
       "\n",
       "[66 rows x 3 columns]"
      ]
     },
     "execution_count": 44,
     "metadata": {},
     "output_type": "execute_result"
    }
   ],
   "source": [
    "cars_sort = cars.sort_values(['full'], ascending=[False])\n",
    "cars_sort"
   ]
  },
  {
   "cell_type": "markdown",
   "id": "79b2066c-ba58-4c76-8fcc-5dfc497df819",
   "metadata": {},
   "source": [
    "Сортируем по CR%"
   ]
  },
  {
   "cell_type": "code",
   "execution_count": 45,
   "id": "cdfdce71-fbe5-48a8-8709-8eaed96a9377",
   "metadata": {
    "tags": []
   },
   "outputs": [
    {
     "data": {
      "text/html": [
       "<div>\n",
       "<style scoped>\n",
       "    .dataframe tbody tr th:only-of-type {\n",
       "        vertical-align: middle;\n",
       "    }\n",
       "\n",
       "    .dataframe tbody tr th {\n",
       "        vertical-align: top;\n",
       "    }\n",
       "\n",
       "    .dataframe thead th {\n",
       "        text-align: right;\n",
       "    }\n",
       "</style>\n",
       "<table border=\"1\" class=\"dataframe\">\n",
       "  <thead>\n",
       "    <tr style=\"text-align: right;\">\n",
       "      <th></th>\n",
       "      <th>target</th>\n",
       "      <th>full</th>\n",
       "      <th>CR%</th>\n",
       "    </tr>\n",
       "  </thead>\n",
       "  <tbody>\n",
       "    <tr>\n",
       "      <th>kia cerato</th>\n",
       "      <td>47</td>\n",
       "      <td>2125</td>\n",
       "      <td>2.211765</td>\n",
       "    </tr>\n",
       "    <tr>\n",
       "      <th>toyota camry</th>\n",
       "      <td>1144</td>\n",
       "      <td>73031</td>\n",
       "      <td>1.566458</td>\n",
       "    </tr>\n",
       "    <tr>\n",
       "      <th>kia rio</th>\n",
       "      <td>1408</td>\n",
       "      <td>89907</td>\n",
       "      <td>1.566063</td>\n",
       "    </tr>\n",
       "    <tr>\n",
       "      <th>volkswagen polo</th>\n",
       "      <td>4421</td>\n",
       "      <td>314169</td>\n",
       "      <td>1.407204</td>\n",
       "    </tr>\n",
       "    <tr>\n",
       "      <th>skoda rapid</th>\n",
       "      <td>5783</td>\n",
       "      <td>439318</td>\n",
       "      <td>1.316359</td>\n",
       "    </tr>\n",
       "    <tr>\n",
       "      <th>...</th>\n",
       "      <td>...</td>\n",
       "      <td>...</td>\n",
       "      <td>...</td>\n",
       "    </tr>\n",
       "    <tr>\n",
       "      <th>volkswagen passat</th>\n",
       "      <td>0</td>\n",
       "      <td>122</td>\n",
       "      <td>0.000000</td>\n",
       "    </tr>\n",
       "    <tr>\n",
       "      <th>mercedes-benz v-klasse</th>\n",
       "      <td>0</td>\n",
       "      <td>18</td>\n",
       "      <td>0.000000</td>\n",
       "    </tr>\n",
       "    <tr>\n",
       "      <th>volkswagen taos</th>\n",
       "      <td>0</td>\n",
       "      <td>4237</td>\n",
       "      <td>0.000000</td>\n",
       "    </tr>\n",
       "    <tr>\n",
       "      <th>land-rover range-rover-velar</th>\n",
       "      <td>0</td>\n",
       "      <td>12</td>\n",
       "      <td>0.000000</td>\n",
       "    </tr>\n",
       "    <tr>\n",
       "      <th>porsche macan</th>\n",
       "      <td>0</td>\n",
       "      <td>7</td>\n",
       "      <td>0.000000</td>\n",
       "    </tr>\n",
       "  </tbody>\n",
       "</table>\n",
       "<p>66 rows × 3 columns</p>\n",
       "</div>"
      ],
      "text/plain": [
       "                              target    full       CR%\n",
       "kia cerato                        47    2125  2.211765\n",
       "toyota camry                    1144   73031  1.566458\n",
       "kia rio                         1408   89907  1.566063\n",
       "volkswagen polo                 4421  314169  1.407204\n",
       "skoda rapid                     5783  439318  1.316359\n",
       "...                              ...     ...       ...\n",
       "volkswagen passat                  0     122  0.000000\n",
       "mercedes-benz v-klasse             0      18  0.000000\n",
       "volkswagen taos                    0    4237  0.000000\n",
       "land-rover range-rover-velar       0      12  0.000000\n",
       "porsche macan                      0       7  0.000000\n",
       "\n",
       "[66 rows x 3 columns]"
      ]
     },
     "execution_count": 45,
     "metadata": {},
     "output_type": "execute_result"
    }
   ],
   "source": [
    "cars_sort_cr = cars.sort_values(['CR%'], ascending=[False])\n",
    "cars_sort_cr"
   ]
  },
  {
   "cell_type": "markdown",
   "id": "eb46c685-3550-4443-a841-8eb037fad1d8",
   "metadata": {},
   "source": [
    "Проанализируем автомобили, занявшие 5 первых строк при сортировке target"
   ]
  },
  {
   "cell_type": "code",
   "execution_count": 46,
   "id": "8f2c2aa3-3265-4774-90f3-48d66271debe",
   "metadata": {
    "tags": []
   },
   "outputs": [
    {
     "data": {
      "image/png": "[encoded data removed]",
      "text/plain": [
       "<Figure size 640x480 with 1 Axes>"
      ]
     },
     "metadata": {},
     "output_type": "display_data"
    }
   ],
   "source": [
    "species = cars_sort.iloc[:5, 0:2].index\n",
    "data = cars_sort[['target', 'full']]\n",
    "x = np.arange(len(species))\n",
    "width = 0.4\n",
    "multiplier = 0\n",
    "\n",
    "fig, ax = plt.subplots(layout = 'constrained');\n",
    "\n",
    "for k, v in cars_sort.iloc[:5, 0:2].items():\n",
    "    offset = width * multiplier\n",
    "    rects = ax.bar(x+offset, v, width, label = k);\n",
    "    ax.bar_label(rects, padding = 2)\n",
    "    multiplier += 1\n",
    "\n",
    "ax.set_ylabel('Scores');\n",
    "ax.set_xlabel('Car models');\n",
    "ax.set_title('Tagtet and full distribution for car models');\n",
    "ax.set_xticks(x + width, species, rotation = 45);\n",
    "ax.legend(loc = 'upper right', ncols = 5);"
   ]
  },
  {
   "cell_type": "code",
   "execution_count": 97,
   "id": "bf822d5d-8ab2-4c63-9995-1f5ff363e82b",
   "metadata": {
    "tags": []
   },
   "outputs": [
    {
     "data": {
      "image/png": "[encoded data removed]",
      "text/plain": [
       "<Figure size 640x480 with 1 Axes>"
      ]
     },
     "metadata": {},
     "output_type": "display_data"
    }
   ],
   "source": [
    "species = cars_sort_cr.iloc[:5, 2].index\n",
    "data = cars_sort_cr.iloc[:5, 2]\n",
    "x = np.arange(len(species))\n",
    "width = 0.4\n",
    "\n",
    "plt.figure()\n",
    "p = plt.bar(species, data, label = cars_sort_cr.iloc[:5, 2], color = 'yellow')\n",
    "plt.bar_label(p, label_type = 'center', color = 'black')\n",
    "\n",
    "plt.ylabel('CR %');\n",
    "plt.xlabel('Car Model');\n",
    "plt.title('Tagtet and full distribution for car models');\n",
    "plt.xticks(x, species);"
   ]
  },
  {
   "cell_type": "markdown",
   "id": "e5c8b405-ce99-4523-bbf9-249f437f60a2",
   "metadata": {},
   "source": [
    "Выводы:\n",
    "\n",
    "1. с точки зрения объема трафика лидируют skoda rapid, lada-vaz vesta, volkswagen polo, kia rio, skoda karoq \n",
    "2. с точки зрения конверсии лидируют kia cerato, toyota camry, kia rio, volkswagen polo, skoda rapid, причем kia cerato со значительным отрывом (2,2 %)"
   ]
  },
  {
   "cell_type": "markdown",
   "id": "d677b471-55f2-4ec3-947c-5bbf81d62f83",
   "metadata": {
    "tags": []
   },
   "source": [
    "### 3. Стоит ли нам увеличивать своё присутствие в соцсетях и давать там больше рекламы?"
   ]
  },
  {
   "cell_type": "markdown",
   "id": "303d7430-fc2d-4bcc-9355-183be190f6b3",
   "metadata": {},
   "source": [
    "Сравним объемы трафика и конверсии из социальных сетей и всего остального"
   ]
  },
  {
   "cell_type": "markdown",
   "id": "ee89b1cc-2740-43b1-b8b2-e1f7bcc2a416",
   "metadata": {},
   "source": [
    "Для социальных сетей:"
   ]
  },
  {
   "cell_type": "code",
   "execution_count": 47,
   "id": "6dbabd31-b38a-47bf-bf25-4f3b5a8175a7",
   "metadata": {
    "tags": []
   },
   "outputs": [],
   "source": [
    "social = ['QxAxdyPLuQMEcrdZWdWb', 'MvfHsxITijuriZxsqZqt', 'ISrKoXQCxqqYvAZICvjs', \n",
    "          'IZEXUFLARCUMynmHNBGo', 'PlbkrSYoHuZBWfYjYnfw', 'gVRrcxiDQubJiljoTbGm']\n",
    "social_full = df.loc[df['utm_source'].isin(social)]\n",
    "social_target = social_full[social_full['event_action'] == 1]"
   ]
  },
  {
   "cell_type": "markdown",
   "id": "a752bc69-1960-4d76-b325-efc6674618c7",
   "metadata": {},
   "source": [
    "Для остальных источников:"
   ]
  },
  {
   "cell_type": "code",
   "execution_count": 48,
   "id": "bba17600-7322-4bf0-95a9-c5844914e185",
   "metadata": {
    "tags": []
   },
   "outputs": [],
   "source": [
    "not_social_full = df.loc[~df['utm_source'].isin(social)]\n",
    "not_social_target = not_social_full[not_social_full['event_action'] == 1]"
   ]
  },
  {
   "cell_type": "code",
   "execution_count": 51,
   "id": "b87f8a04-cc7e-4432-9e5b-5b937dd12e18",
   "metadata": {
    "tags": []
   },
   "outputs": [
    {
     "data": {
      "text/html": [
       "<div>\n",
       "<style scoped>\n",
       "    .dataframe tbody tr th:only-of-type {\n",
       "        vertical-align: middle;\n",
       "    }\n",
       "\n",
       "    .dataframe tbody tr th {\n",
       "        vertical-align: top;\n",
       "    }\n",
       "\n",
       "    .dataframe thead th {\n",
       "        text-align: right;\n",
       "    }\n",
       "</style>\n",
       "<table border=\"1\" class=\"dataframe\">\n",
       "  <thead>\n",
       "    <tr style=\"text-align: right;\">\n",
       "      <th></th>\n",
       "      <th>target</th>\n",
       "      <th>full</th>\n",
       "      <th>CR%</th>\n",
       "    </tr>\n",
       "  </thead>\n",
       "  <tbody>\n",
       "    <tr>\n",
       "      <th>rest</th>\n",
       "      <td>96791</td>\n",
       "      <td>14633773</td>\n",
       "      <td>0.661422</td>\n",
       "    </tr>\n",
       "    <tr>\n",
       "      <th>social</th>\n",
       "      <td>8117</td>\n",
       "      <td>1220473</td>\n",
       "      <td>0.665070</td>\n",
       "    </tr>\n",
       "  </tbody>\n",
       "</table>\n",
       "</div>"
      ],
      "text/plain": [
       "        target      full       CR%\n",
       "rest     96791  14633773  0.661422\n",
       "social    8117   1220473  0.665070"
      ]
     },
     "execution_count": 51,
     "metadata": {},
     "output_type": "execute_result"
    }
   ],
   "source": [
    "soc = pd.DataFrame({'target': [len(not_social_target), len(social_target)],\n",
    "                   'full': [len(not_social_full), len(social_full)]},\n",
    "                  index = ['rest', 'social'])\n",
    "soc['CR%'] = soc['target'] * 100 / soc['full']\n",
    "soc"
   ]
  },
  {
   "cell_type": "code",
   "execution_count": 52,
   "id": "92c56191-7636-4838-beef-fb94b4da8a25",
   "metadata": {},
   "outputs": [
    {
     "data": {
      "image/png": "[encoded data removed]",
      "text/plain": [
       "<Figure size 640x480 with 1 Axes>"
      ]
     },
     "metadata": {},
     "output_type": "display_data"
    }
   ],
   "source": [
    "species = soc[['target', 'full']].index\n",
    "data = soc[['target', 'full']]\n",
    "x = np.arange(len(species))\n",
    "width = 0.2\n",
    "multiplier = 0\n",
    "\n",
    "fig, ax = plt.subplots(layout = 'constrained');\n",
    "\n",
    "for k, v in soc[['target', 'full']].items():\n",
    "    offset = width * multiplier\n",
    "    rects = ax.bar(x+offset, v, width, label = k);\n",
    "    ax.bar_label(rects, padding = 2)\n",
    "    multiplier += 1\n",
    "\n",
    "ax.set_ylabel('Scores');\n",
    "ax.set_xlabel('Source');\n",
    "ax.set_title('Tagtet and full distribution for social media and rest');\n",
    "ax.set_xticks(x + width, species);\n",
    "ax.legend(loc = 'upper left', ncols = 2);"
   ]
  },
  {
   "cell_type": "code",
   "execution_count": 56,
   "id": "0c0204da-a1b3-4ff5-b528-f356e3b96bb4",
   "metadata": {},
   "outputs": [
    {
     "data": {
      "image/png": "[encoded data removed]",
      "text/plain": [
       "<Figure size 640x480 with 1 Axes>"
      ]
     },
     "metadata": {},
     "output_type": "display_data"
    }
   ],
   "source": [
    "species = soc.sort_values(by = ['CR%'], ascending = [False]).index\n",
    "data = soc.sort_values(by = ['CR%'], ascending = [False])['CR%']\n",
    "x = np.arange(len(species))\n",
    "width = 0.3\n",
    "\n",
    "plt.figure()\n",
    "p = plt.bar(species, data, label = soc.sort_values(by = ['CR%'], ascending = [False])['CR%'], color = 'green')\n",
    "plt.bar_label(p, label_type = 'center', color = 'black')\n",
    "\n",
    "plt.ylabel('CR %');\n",
    "plt.xlabel('Source');\n",
    "plt.title('Tagtet and full distribution for source');\n",
    "plt.xticks(x, species);"
   ]
  },
  {
   "cell_type": "markdown",
   "id": "a86df280-0e97-45b0-9bc7-7a8df023d7eb",
   "metadata": {},
   "source": [
    "Выводы:\n",
    "\n",
    "1. Объем трафика социальных сетей примерно в 12 раз меньше трафика от остальных источников\n",
    "2. Конверсии в целевое действие от социальных сетей и остальных источников практически равны\n",
    "3. Очевидно, что в социальных сетях мы продвигаемся не очень хорошо, поэтому я думаю, мы должны увеличить там свое присутствие и давать больше рекламы"
   ]
  }
 ],
 "metadata": {
  "kernelspec": {
   "display_name": "Python 3 (ipykernel)",
   "language": "python",
   "name": "python3"
  },
  "language_info": {
   "codemirror_mode": {
    "name": "ipython",
    "version": 3
   },
   "file_extension": ".py",
   "mimetype": "text/x-python",
   "name": "python",
   "nbconvert_exporter": "python",
   "pygments_lexer": "ipython3",
   "version": "3.11.4"
  }
 },
 "nbformat": 4,
 "nbformat_minor": 5
}
